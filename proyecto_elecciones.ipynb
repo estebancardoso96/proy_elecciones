{
 "cells": [
  {
   "cell_type": "markdown",
   "metadata": {},
   "source": [
    "# Proyecto elecciones nacionales"
   ]
  },
  {
   "cell_type": "markdown",
   "metadata": {},
   "source": [
    "### Opciones de Scrapeo"
   ]
  },
  {
   "cell_type": "code",
   "execution_count": 34,
   "metadata": {},
   "outputs": [],
   "source": [
    "import pandas as pd\n",
    "\n",
    "df = pd.read_html('https://es.wikipedia.org/wiki/Elecciones_generales_de_Uruguay_de_2024') # WIKIPEDIA\n",
    "base = pd.read_html('https://umad-fcs.github.io/data_politica_uy/') # UMAD, base de datos con todas las elecciones"
   ]
  },
  {
   "cell_type": "markdown",
   "metadata": {},
   "source": [
    "### Empiezo aca"
   ]
  },
  {
   "cell_type": "code",
   "execution_count": 8,
   "metadata": {},
   "outputs": [],
   "source": [
    "import pandas as pd\n",
    "import numpy as np\n",
    "import matplotlib.pyplot as plt\n",
    "import plotly.express as px\n",
    "pd.options.plotting.backend = 'plotly' # cambio el backend, lo hago interactivo con plotly\n",
    "import os\n",
    "import datetime\n",
    "import re\n",
    "# Desactiva advertencias\n",
    "pd.options.mode.chained_assignment = None"
   ]
  },
  {
   "cell_type": "code",
   "execution_count": 89,
   "metadata": {},
   "outputs": [
    {
     "name": "stdout",
     "output_type": "stream",
     "text": [
      "array(['Partido Nacional', 'Partido Colorado',\n",
      "       'Frente Izquierda de Liberación[n 1]\\u200b',\n",
      "       'Partido Demócrata Cristiano', 'Unión Popular[n 2]\\u200b',\n",
      "       'Movimiento Progresista', 'Partido Obrero Revolucionario',\n",
      "       'Partido por el Departamento de Solís', 'Partido Federal',\n",
      "       'Partido de los Trabajadores', 'Partido Laborista'], dtype=object)\n"
     ]
    }
   ],
   "source": [
    "# Scrapeo a wikipedia de las elecciones que faltan\n",
    "\n",
    "from funciones import limpiar_y_convertir_a_float\n",
    "\n",
    "# Eleecciones del 1962\n",
    "\n",
    "e_p_1962 = pd.read_html('https://es.wikipedia.org/wiki/Elecciones_generales_de_Uruguay_de_1962')\n",
    "\n",
    "e_p_1962 = e_p_1962[2]\n",
    "\n",
    "e_p_1962 = e_p_1962[['Partido político', 'Porcentaje']].iloc[0:18,]\n",
    "e_p_1962['Anio'] = 1962\n",
    "e_p_1962 = e_p_1962.drop_duplicates()\n",
    "# Identifica caracteres invisibles\n",
    "print(repr(e_p_1962['Partido político'].unique()))\n",
    "e_p_1962['Partido político'] = e_p_1962['Partido político'].replace({'Frente Izquierda de Liberación[n 1]\\u200b':'Frente Izquierda de Liberacion'})\n",
    "e_p_1962['Partido político'] = e_p_1962['Partido político'].replace({'Unión Popular[n 2]\\u200b':'Union Popular'})\n",
    "diccio = {'Partido Nacional':'PN', 'Frente Amplio' : 'FA', 'Partido Colorado': 'PC'}\n",
    "e_p_1962['Sigla'] = e_p_1962['Partido político'].map(diccio)\n",
    "e_p_1962['Porcentaje'] = limpiar_y_convertir_a_float(e_p_1962['Porcentaje'])\n",
    "\n",
    "# Eleecciones del 1958\n",
    "e_p_1958 = pd.read_html('https://es.wikipedia.org/wiki/Elecciones_generales_de_Uruguay_de_1958')\n",
    "e_p_1958 = e_p_1958[2]\n",
    "e_p_1958 = e_p_1958[['Partido político', 'Porcentaje']].iloc[0:18,]\n",
    "e_p_1958['Anio'] = 1958\n",
    "e_p_1958 = e_p_1958.drop_duplicates()\n",
    "e_p_1958['Sigla'] = e_p_1958['Partido político'].map(diccio)\n",
    "e_p_1958['Porcentaje'] = limpiar_y_convertir_a_float(e_p_1958['Porcentaje'])\n",
    "\n",
    "# Eleecciones del 1926\n",
    "#e_p_1926 = pd.read_html('https://es.wikipedia.org/wiki/Elecciones_generales_de_Uruguay_de_1926')\n",
    "#e_p_1926 = e_p_1926[1]\n",
    "#e_p_1926['Anio'] = 1926\n",
    "#e_p_1926 = e_p_1958[['Partido político', 'Porcentaje']]\n",
    "#e_p_1926 = e_p_1926.drop_duplicates()\n",
    "#e_p_1926['Sigla'] = e_p_1926['Partido político'].map(diccio)\n",
    "#e_p_1926['Porcentaje'] = limpiar_y_convertir_a_float(e_p_1926['Porcentaje'])"
   ]
  },
  {
   "cell_type": "code",
   "execution_count": 22,
   "metadata": {},
   "outputs": [
    {
     "name": "stderr",
     "output_type": "stream",
     "text": [
      "C:\\Users\\PC\\AppData\\Local\\Temp\\ipykernel_2528\\3167852783.py:17: FutureWarning:\n",
      "\n",
      "The provided callable <built-in function sum> is currently using SeriesGroupBy.sum. In a future version of pandas, the provided callable will be used directly. To keep current behavior pass the string \"sum\" instead.\n",
      "\n"
     ]
    }
   ],
   "source": [
    "# df = pd.read_html('https://es.wikipedia.org/wiki/Elecciones_generales_de_Uruguay_de_2024') # WIKIPEDIA\n",
    "base = pd.read_html('https://umad-fcs.github.io/data_politica_uy/') # UMAD, base de datos con todas las elecciones\n",
    "e_p_1984 = base[11] # elecciones 1984\n",
    "e_p_1989 = base[12] # elecciones 1989\n",
    "e_p_1994 = base[13] # elecciones 1994\n",
    "e_p_1999 = base[14] # elecciones 1999\n",
    "e_p_2004 = base[15] # elecciones 2004\n",
    "e_p_2009 = base[16] # elecciones 2009\n",
    "e_p_2014 = base[17] # elecciones 2014\n",
    "e_p_2019 = base[18] # elecciones 2019\n",
    "from funciones import limpiar_y_convertir_a_float\n",
    "df = pd.concat([e_p_1984,e_p_1989,e_p_1994,e_p_1999,e_p_2004,e_p_2009,e_p_2014, e_p_2019], axis = 0) # unifico\n",
    "df['Porcentaje'] = limpiar_y_convertir_a_float(df['Porcentaje'])\n",
    "df['Fecha']= pd.to_datetime(df['Fecha'])\n",
    "df['Anio'] = df['Fecha'].dt.year\n",
    "vb_va = df.query('Sigla == \"VA\" or Sigla == \"VB\"')\n",
    "vb_va['Porcentaje_suma'] = vb_va.groupby('Anio')['Porcentaje'].transform(sum)\n",
    "vb_va['Suma'] = 'VA + VB' \n",
    "df['Partidos aliados'] = df['Partido'].replace({'Partido Nacional': 'Partidos fundacionales y aliados', 'Partido Colorado': 'Partidos fundacionales y aliados', 'Frente Amplio': 'Frente Amplio y aliados',\n",
    "                                       'Nuevo Espacio':'Frente Amplio y aliados', 'Cabildo Abierto':'Partidos fundacionales y aliados', 'Partido Independiente':'Partidos fundacionales y aliados'})\n",
    "\n",
    "df2 = df.query('Sigla in (\"PC\", \"PN\", \"CA\", \"FA\", \"PI\", \"NE\")').groupby(['Partidos aliados', 'Anio'], as_index=False).sum(numeric_only=True).sort_values(by = ['Anio', 'Partidos aliados'])\n"
   ]
  },
  {
   "cell_type": "code",
   "execution_count": null,
   "metadata": {},
   "outputs": [],
   "source": [
    "# Pre dictadura (faltan las elecciones del 1926, 1958 y 1962)\n",
    "\n",
    "e_p_1971 = base[10] # elecciones 1971\n",
    "e_p_1966 = base[9] # elecciones 1966\n",
    "# faltan las del 1958 y 1962\n",
    "e_p_1954 = base[7] # elecciones 1954 \n",
    "e_p_1950 = base[6] # elecciones 1950\n",
    "e_p_1946 = base[5] # elecciones 1946\n",
    "e_p_1942 = base[4] # elecciones 1942\n",
    "e_p_1938 = base[3] # elecciones 1938\n",
    "e_p_1930 = base[2] # elecciones 1930\n",
    "e_p_1926 = base[1] # elecciones 1926\n",
    "e_p_1922 = base[0] # elecciones 1922\n",
    "from funciones import limpiar_y_convertir_a_float\n",
    "df_0 = pd.concat([e_p_1971,e_p_1966,e_p_1962,e_p_1958,e_p_1954,e_p_1950,e_p_1946,e_p_1942,e_p_1938, e_p_1930, e_p_1926, e_p_1922], axis = 0) # unifico\n",
    "df_0['Porcentaje'] = limpiar_y_convertir_a_float(df_0['Porcentaje'])\n",
    "df_0['Fecha']= pd.to_datetime(df_0['Fecha'])\n",
    "df_0['Anio'] = df_0['Fecha'].dt.year"
   ]
  },
  {
   "cell_type": "markdown",
   "metadata": {},
   "source": [
    "### Posibles graficos a mostrar"
   ]
  },
  {
   "cell_type": "code",
   "execution_count": 6,
   "metadata": {},
   "outputs": [],
   "source": [
    "# desempeno electoral por eleccion\n",
    "\n",
    "def graficar_histograma_por_anio(df, anio):\n",
    "    # Filtrar el DataFrame por el año especificado\n",
    "    df_filtrado = df.query('Anio == @anio')\n",
    "    \n",
    "    # Crear el histograma usando Plotly Express\n",
    "    fig = px.histogram(df_filtrado, x='Partido', y='Porcentaje', color='Partido',\n",
    "                       title=f\"Resultados de las elecciones en {anio}\",\n",
    "                       labels={'Partido': 'Partido Político', 'Porcentaje': 'Porcentaje de Votos'},\n",
    "                       text_auto=True)\n",
    "\n",
    "    # Ajustar el diseño del gráfico\n",
    "    fig.update_layout(bargap=0.2, template=\"plotly_white\")\n",
    "    return fig"
   ]
  },
  {
   "cell_type": "markdown",
   "metadata": {},
   "source": [
    "## DASH"
   ]
  },
  {
   "cell_type": "code",
   "execution_count": 4,
   "metadata": {},
   "outputs": [],
   "source": [
    "cant_elecciones = df['Anio'].nunique()\n",
    "cant_partidos = df['Partido'].nunique()\n",
    "# Seleccionar únicamente las filas correspondientes a esos índices\n",
    "ganadores = df.loc[df.groupby('Anio')['Porcentaje'].idxmax(), ['Anio', 'Partido', 'Porcentaje']].drop_duplicates()\n",
    "partido_max_ganador = ganadores.groupby('Partido').size().reset_index(name = 'cantidad').iloc[0,0]\n",
    "cant_elecciones_max_ganador = max(ganadores['Partido'].value_counts())\n",
    "\n",
    "tabla = pd.DataFrame({'Cantidad de elecciones':[cant_elecciones],\n",
    "                      'Cantidad de partidos':[cant_partidos],\n",
    "                      'Partido más ganador':[partido_max_ganador],\n",
    "                      'Cantidad de primeras vueltas ganadas':[cant_elecciones_max_ganador]})"
   ]
  },
  {
   "cell_type": "code",
   "execution_count": 49,
   "metadata": {},
   "outputs": [
    {
     "data": {
      "text/html": [
       "<div>\n",
       "<style scoped>\n",
       "    .dataframe tbody tr th:only-of-type {\n",
       "        vertical-align: middle;\n",
       "    }\n",
       "\n",
       "    .dataframe tbody tr th {\n",
       "        vertical-align: top;\n",
       "    }\n",
       "\n",
       "    .dataframe thead th {\n",
       "        text-align: right;\n",
       "    }\n",
       "</style>\n",
       "<table border=\"1\" class=\"dataframe\">\n",
       "  <thead>\n",
       "    <tr style=\"text-align: right;\">\n",
       "      <th></th>\n",
       "      <th>Cantidad de elecciones</th>\n",
       "      <th>Cantidad de partidos</th>\n",
       "      <th>Partido más ganador</th>\n",
       "      <th>Cantidad de primeras vueltas ganadas</th>\n",
       "    </tr>\n",
       "  </thead>\n",
       "  <tbody>\n",
       "    <tr>\n",
       "      <th>0</th>\n",
       "      <td>8</td>\n",
       "      <td>29</td>\n",
       "      <td>Frente Amplio</td>\n",
       "      <td>5</td>\n",
       "    </tr>\n",
       "  </tbody>\n",
       "</table>\n",
       "</div>"
      ],
      "text/plain": [
       "   Cantidad de elecciones  Cantidad de partidos Partido más ganador  \\\n",
       "0                       8                    29       Frente Amplio   \n",
       "\n",
       "   Cantidad de primeras vueltas ganadas  \n",
       "0                                     5  "
      ]
     },
     "execution_count": 49,
     "metadata": {},
     "output_type": "execute_result"
    }
   ],
   "source": [
    "tabla"
   ]
  },
  {
   "cell_type": "code",
   "execution_count": null,
   "metadata": {},
   "outputs": [
    {
     "data": {
      "text/html": [
       "\n",
       "        <iframe\n",
       "            width=\"100%\"\n",
       "            height=\"650\"\n",
       "            src=\"http://127.0.0.1:8051/\"\n",
       "            frameborder=\"0\"\n",
       "            allowfullscreen\n",
       "            \n",
       "        ></iframe>\n",
       "        "
      ],
      "text/plain": [
       "<IPython.lib.display.IFrame at 0x17ec901c980>"
      ]
     },
     "metadata": {},
     "output_type": "display_data"
    }
   ],
   "source": [
    "import dash\n",
    "import plotly.io as pio\n",
    "import dash_bootstrap_components as dbc\n",
    "import plotly.express as px\n",
    "from dash import Dash, html, dcc\n",
    "from dash.dependencies import Input, Output\n",
    "\n",
    "\n",
    "# Configuración de la hoja de estilos de Bootstrap\n",
    "\n",
    "# Configuración de Dash con Bootstrap\n",
    "app = dash.Dash(__name__, external_stylesheets=[dbc.themes.LUX])\n",
    "\n",
    "# Configuración de la plantilla de Plotly\n",
    "pio.templates.default = \"ggplot2\"\n",
    "\n",
    "#pio.templates.default = \"plotly_white\"\n",
    "\n",
    "#Generamos gráficos\n",
    "\n",
    "fig0 = df_0.query('Sigla in (\"PN\", \"PC\", \"FA\")').plot(x='Anio', y='Porcentaje', color='Partido').update_xaxes(\n",
    "    tickvals=[1922,1926,1930,1938, 1942, 1946, 1950, 1954, 1958,1962,1966, 1971]\n",
    ").update_layout(\n",
    "    annotations=[\n",
    "        dict(\n",
    "            xref=\"paper\", yref=\"paper\",\n",
    "            x=0, y=-0.2,  # Posición en la ventana\n",
    "            showarrow=False,\n",
    "            text=\"Nota: Rige la regla del Doble Voto Simultáneo, en una vuelta sola se vota al legislativo y al ejecutivo.\",\n",
    "            font=dict(size=12, color=\"gray\")\n",
    "        )\n",
    "    ]\n",
    ")\n",
    "\n",
    "\n",
    "fig1 = df.query('Sigla in (\"PN\", \"PC\", \"FA\",\"NE\",\"CA\")').plot(x='Anio', y='Porcentaje', color='Partido').update_xaxes(\n",
    "    tickvals=[1984,1989, 1994, 1999, 2004, 2009, 2014, 2019]\n",
    ").update_layout(\n",
    "    annotations=[\n",
    "        dict(\n",
    "            xref=\"paper\", yref=\"paper\",\n",
    "            x=0, y=-0.2,  # Posición en la ventana\n",
    "            showarrow=False,\n",
    "            text=\"Nota: A partir de 1999, las elecciones en Uruguay comenzaron a incluir una segunda vuelta.\",\n",
    "            font=dict(size=12, color=\"gray\")\n",
    "        )\n",
    "    ]\n",
    ")\n",
    "\n",
    "fig1_2 = df2.plot(x = 'Anio', y ='Porcentaje', color = 'Partidos aliados').update_xaxes(\n",
    "    tickvals=[1984,1989, 1994, 1999, 2004, 2009, 2014, 2019])\n",
    "\n",
    "fig0_0=graficar_histograma_por_anio(df_0, 1922)\n",
    "fig0_1=graficar_histograma_por_anio(df_0, 1926)\n",
    "fig0_2=graficar_histograma_por_anio(df_0, 1930)\n",
    "fig0_3=graficar_histograma_por_anio(df_0, 1938)\n",
    "fig0_4=graficar_histograma_por_anio(df_0, 1942)\n",
    "fig0_5=graficar_histograma_por_anio(df_0, 1946)\n",
    "fig0_6=graficar_histograma_por_anio(df_0, 1950)\n",
    "fig0_7=graficar_histograma_por_anio(df_0, 1954)\n",
    "fig0_8=graficar_histograma_por_anio(df_0, 1958)\n",
    "fig0_9=graficar_histograma_por_anio(df_0, 1962)\n",
    "fig0_10=graficar_histograma_por_anio(df_0, 1966)\n",
    "fig0_11=graficar_histograma_por_anio(df_0, 1971)\n",
    "\n",
    "fig2_0=graficar_histograma_por_anio(df, 1984)\n",
    "fig2_1=graficar_histograma_por_anio(df, 1989)\n",
    "fig2_2=graficar_histograma_por_anio(df, 1994)\n",
    "fig2_3=graficar_histograma_por_anio(df, 1999)\n",
    "fig2_4=graficar_histograma_por_anio(df, 2004)\n",
    "fig2_5=graficar_histograma_por_anio(df, 2009)\n",
    "fig2_6=graficar_histograma_por_anio(df, 2014)\n",
    "fig2_7=graficar_histograma_por_anio(df, 2019)\n",
    "fig3 = df.plot(x='Anio', y='Porcentaje', color='Partido')\n",
    "fig_edad_masc = df.plot(x='Anio', y='Porcentaje', color='Partido')\n",
    "fig_edad_fem =df.plot(x='Anio', y='Porcentaje', color='Partido')\n",
    "\n",
    "fig_4 = px.line(\n",
    "    vb_va,\n",
    "    x='Anio',\n",
    "    y='Porcentaje',\n",
    "    color='Partido',  # Variable categórica para el color\n",
    "    markers=True,     # Mostrar los puntos además de las líneas\n",
    "    labels={'Anio': 'Año', 'Porcentaje': 'Porcentaje'},\n",
    "    title='Evolución de los votos anulados y en blanco (1984-2019)'\n",
    ").add_scatter(   # Añadir la segunda métrica en el mismo gráfico\n",
    "    x=vb_va['Anio'],\n",
    "    y=vb_va['Porcentaje_suma'],  \n",
    "    mode='lines',  # Solo puntos\n",
    "    name='Porcentaje Suma',\n",
    "    marker=dict(symbol='circle', color='black')  # Opcional: Estilo de marcador\n",
    ").update_xaxes(\n",
    "    tickvals=[1984, 1989, 1994, 1999, 2004, 2009, 2014, 2019])\n",
    "\n",
    "# Creación de la aplicación Dash\n",
    "\n",
    "tab_0 = [dbc.Row([\n",
    "dbc.Col(dcc.Graph(figure=fig0), md=12),\n",
    "])]\n",
    "\n",
    "tab_1 = [dbc.Row([\n",
    "dbc.Col(dcc.Graph(figure=fig1), md=12),\n",
    "])]\n",
    "\n",
    "tab_2 =[html.Br(),\n",
    "                                  html.H3(\"Desempeño electoral estático\"),\n",
    "                                  dbc.Row([\n",
    "                                      dbc.Col(\n",
    "                                            dcc.Dropdown(id=\"dropdown_eleccion\", options=[\n",
    "                                              {\"label\": \"1922\", \"value\": \"Resultados de las elecciones de 1922\"},\n",
    "                                              {\"label\": \"1926\", \"value\": \"Resultados de las elecciones de 1926\"},\n",
    "                                              {\"label\": \"1930\", \"value\": \"Resultados de las elecciones de 1930\"},\n",
    "                                              {\"label\": \"1938\", \"value\": \"Resultados de las elecciones de 1938\"},\n",
    "                                              {\"label\": \"1942\", \"value\": \"Resultados de las elecciones de 1942\"},\n",
    "                                              {\"label\": \"1946\", \"value\": \"Resultados de las elecciones de 1946\"},\n",
    "                                              {\"label\": \"1950\", \"value\": \"Resultados de las elecciones de 1950\"},\n",
    "                                              {\"label\": \"1954\", \"value\": \"Resultados de las elecciones de 1954\"},\n",
    "                                              {\"label\": \"1958\", \"value\": \"Resultados de las elecciones de 1958\"},\n",
    "                                              {\"label\": \"1962\", \"value\": \"Resultados de las elecciones de 1962\"},\n",
    "                                              {\"label\": \"1966\", \"value\": \"Resultados de las elecciones de 1966\"},\n",
    "                                              {\"label\": \"1971\", \"value\": \"Resultados de las elecciones de 1971\"},\n",
    "                                              {\"label\": \"1994\", \"value\": \"Resultados de las elecciones de 1994\"},\n",
    "                                              {\"label\": \"1999\", \"value\": \"Resultados de las elecciones de 1999\"},\n",
    "                                              {\"label\": \"2004\", \"value\": \"Resultados de las elecciones de 2004\"},\n",
    "                                              {\"label\": \"2009\", \"value\": \"Resultados de las elecciones de 2009\"},\n",
    "                                              {\"label\": \"2014\", \"value\": \"Resultados de las elecciones de 2014\"},\n",
    "                                              {\"label\": \"2019\", \"value\": \"Resultados de las elecciones de 2019\"}]\n",
    "\n",
    "                                   ,placeholder=\"Seleccionar año de la elección\"), width=6)]),\n",
    "                                   dbc.Row([dbc.Col(dcc.Graph(id=\"graph_tipo\")),])]\n",
    "\n",
    "## guia analoga\n",
    "\n",
    "tab_3 = [dbc.Row([\n",
    "dbc.Col(dcc.Graph(figure=fig1_2), md=12),\n",
    "])]\n",
    "\n",
    "tab_4 = [dbc.Row([\n",
    "dbc.Col(dcc.Graph(figure=fig_4), md=12),\n",
    "])]\n",
    "\n",
    "# Diseño general de la aplicación\n",
    "\n",
    "app.layout = dbc.Container([\n",
    "    html.H1(\n",
    "        \"Visualizador de datos de las Elecciones Nacionales en el Uruguay\", \n",
    "        style={\"font-size\": \"3rem\", \"text-align\": \"center\", \"color\": \"#333\"}  # Personalización del estilo\n",
    "    ),\n",
    "    html.Br(),\n",
    "\n",
    "    # Tarjeta que muestra los  datos en forma de tabla\n",
    "    dbc.Card([\n",
    "        dbc.CardHeader(html.H5(\"General\")),  # Encabezado de la tarjeta\n",
    "        dbc.CardBody(\n",
    "            dbc.Table.from_dataframe(tabla, striped=True, hover=True, bordered=True, responsive=True)\n",
    "        )  # Cuerpo de la tarjeta que contiene la tabla\n",
    "    ], color=\"primary\", outline=True),  # Estilo y borde de la tarjeta\n",
    "\n",
    "    html.Br(),  # Salto de línea\n",
    "\n",
    "    # Pestañas que contienen los gráficos definidos previamente en 'tab_1', 'tab_2'\n",
    "    dbc.Tabs([\n",
    "        dbc.Tab(tab_0, label=\"Desempeño electoral de los partidos (1922-1971)\"),\n",
    "        dbc.Tab(tab_1, label=\"Desempeño electoral de los partidos (1984-2019)\"),  # etiqueta titulo de primer tab \n",
    "        dbc.Tab(tab_2, label=\"Desempeño por elección histórico\"), # etiqueta de segundo\n",
    "        dbc.Tab(tab_3, label=\"Desempeño electoral de los bloques aliados (1984-2019)\"),# Pestaña para visualizar fallecimientos,\n",
    "        dbc.Tab(tab_4, label=\"Votos en blanco y anulado (1984-2019)\")\n",
    "          # Pestaña para visualizar pruebas\n",
    "    ])\n",
    "], fluid=True)\n",
    "\n",
    "\n",
    "\n",
    "# Llamar al Callback y funcion de la pestana 2\n",
    "@app.callback( Output('graph_tipo', 'figure'),[Input('dropdown_eleccion', 'value')])\n",
    "def crear_grafico_pestana_2(value):\n",
    "    if value == \"Resultados de las elecciones de 1922\":\n",
    "      return fig0_0\n",
    "    elif value == \"Resultados de las elecciones de 1926\":\n",
    "      return fig0_1\n",
    "    elif value == \"Resultados de las elecciones de 1930\":\n",
    "      return fig0_2\n",
    "    elif value == \"Resultados de las elecciones de 1938\":\n",
    "      return fig0_3\n",
    "    elif value == \"Resultados de las elecciones de 1942\":\n",
    "      return fig0_4\n",
    "    elif value == \"Resultados de las elecciones de 1946\":\n",
    "      return fig0_5\n",
    "    elif value == \"Resultados de las elecciones de 1950\":\n",
    "      return fig0_6\n",
    "    elif value == \"Resultados de las elecciones de 1954\":\n",
    "      return fig0_7\n",
    "    elif value == \"Resultados de las elecciones de 1966\":\n",
    "      return fig0_8\n",
    "    elif value == \"Resultados de las elecciones de 1971\":\n",
    "      return fig0_9   \n",
    "    elif value == \"Resultados de las elecciones de 1984\":\n",
    "      return fig2_0\n",
    "    elif value == \"Resultados de las elecciones de 1989\":\n",
    "      return fig2_1\n",
    "    elif value == \"Resultados de las elecciones de 1994\":\n",
    "      return fig2_2\n",
    "    elif value == \"Resultados de las elecciones de 1999\":\n",
    "      return fig2_3\n",
    "    elif value == \"Resultados de las elecciones de 2004\":\n",
    "      return fig2_4\n",
    "    elif value == \"Resultados de las elecciones de 2009\":\n",
    "      return fig2_5\n",
    "    elif value == \"Resultados de las elecciones de 2014\":\n",
    "      return fig2_6\n",
    "    elif value == \"Resultados de las elecciones de 2019\":\n",
    "      return fig2_7\n",
    "    else:\n",
    "      return{}\n",
    "\n",
    "# Llamar al callback y funcion de la pestana 3 (como la pestana 3 no tiene nada interactivo entonces no tiene ningun callback)\n",
    "\n",
    "# Llamar al callback de la pestana 4 (IDEM)\n",
    "\n",
    "if __name__ == '__main__':\n",
    "    app.run_server(debug=True,mode=\"external\", port=8051)"
   ]
  },
  {
   "cell_type": "code",
   "execution_count": null,
   "metadata": {},
   "outputs": [],
   "source": [
    "# Aca va a aparecer\n",
    "\n",
    "http://127.0.0.1:8051/"
   ]
  },
  {
   "cell_type": "markdown",
   "metadata": {},
   "source": [
    "## Pusheo a git"
   ]
  },
  {
   "cell_type": "code",
   "execution_count": 10,
   "metadata": {},
   "outputs": [],
   "source": [
    "import subprocess\n",
    "import os"
   ]
  },
  {
   "cell_type": "code",
   "execution_count": 11,
   "metadata": {},
   "outputs": [],
   "source": [
    "os.chdir('C:/Users/PC/Desktop/Proyecto_elecciones')\n",
    "\n",
    "nombre_archivo = 'proyecto_elecciones.ipynb'\n",
    "mensaje_commit = 'cambio realizado .ipynb'"
   ]
  },
  {
   "cell_type": "code",
   "execution_count": 14,
   "metadata": {},
   "outputs": [
    {
     "data": {
      "text/plain": [
       "CompletedProcess(args=['git', 'add', 'proyecto_elecciones.ipynb'], returncode=128)"
      ]
     },
     "execution_count": 14,
     "metadata": {},
     "output_type": "execute_result"
    }
   ],
   "source": [
    "subprocess.run(['git', 'add', nombre_archivo])"
   ]
  },
  {
   "cell_type": "code",
   "execution_count": 15,
   "metadata": {},
   "outputs": [
    {
     "data": {
      "text/plain": [
       "CompletedProcess(args=['git', 'commit', '-m', 'cambio realizado .ipynb'], returncode=128)"
      ]
     },
     "execution_count": 15,
     "metadata": {},
     "output_type": "execute_result"
    }
   ],
   "source": [
    "subprocess.run(['git', 'commit', '-m',mensaje_commit])"
   ]
  },
  {
   "cell_type": "code",
   "execution_count": null,
   "metadata": {},
   "outputs": [],
   "source": []
  }
 ],
 "metadata": {
  "kernelspec": {
   "display_name": "Python 3",
   "language": "python",
   "name": "python3"
  },
  "language_info": {
   "codemirror_mode": {
    "name": "ipython",
    "version": 3
   },
   "file_extension": ".py",
   "mimetype": "text/x-python",
   "name": "python",
   "nbconvert_exporter": "python",
   "pygments_lexer": "ipython3",
   "version": "3.13.0"
  }
 },
 "nbformat": 4,
 "nbformat_minor": 2
}
