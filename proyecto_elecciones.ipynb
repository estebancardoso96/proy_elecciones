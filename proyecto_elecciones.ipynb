{
 "cells": [
  {
   "cell_type": "markdown",
   "metadata": {},
   "source": [
    "# Proyecto elecciones nacionales"
   ]
  },
  {
   "cell_type": "markdown",
   "metadata": {},
   "source": [
    "### Opciones de Scrapeo"
   ]
  },
  {
   "cell_type": "code",
   "execution_count": 1,
   "metadata": {},
   "outputs": [],
   "source": [
    "import pandas as pd\n",
    "\n",
    "df = pd.read_html('https://es.wikipedia.org/wiki/Elecciones_generales_de_Uruguay_de_2024') # WIKIPEDIA\n",
    "base = pd.read_html('https://umad-fcs.github.io/data_politica_uy/') # UMAD, base de datos con todas las elecciones"
   ]
  },
  {
   "cell_type": "markdown",
   "metadata": {},
   "source": [
    "### Empiezo aca"
   ]
  },
  {
   "cell_type": "code",
   "execution_count": 40,
   "metadata": {},
   "outputs": [],
   "source": [
    "import pandas as pd\n",
    "import numpy as np\n",
    "import matplotlib.pyplot as plt\n",
    "import plotly.express as px\n",
    "pd.options.plotting.backend = 'plotly' # cambio el backend, lo hago interactivo con plotly\n",
    "import os\n",
    "import datetime\n",
    "import re\n",
    "# Desactiva advertencias\n",
    "pd.options.mode.chained_assignment = None"
   ]
  },
  {
   "cell_type": "code",
   "execution_count": 60,
   "metadata": {},
   "outputs": [
    {
     "name": "stdout",
     "output_type": "stream",
     "text": [
      "array(['Partido Nacional', 'Partido Colorado',\n",
      "       'Frente Izquierda de Liberación[n 1]\\u200b',\n",
      "       'Partido Demócrata Cristiano', 'Unión Popular[n 2]\\u200b',\n",
      "       'Movimiento Progresista', 'Partido Obrero Revolucionario',\n",
      "       'Partido por el Departamento de Solís', 'Partido Federal',\n",
      "       'Partido de los Trabajadores', 'Partido Laborista'], dtype=object)\n"
     ]
    },
    {
     "name": "stderr",
     "output_type": "stream",
     "text": [
      "C:\\Users\\PC\\AppData\\Local\\Temp\\ipykernel_592\\747423984.py:59: FutureWarning:\n",
      "\n",
      "The provided callable <built-in function sum> is currently using SeriesGroupBy.sum. In a future version of pandas, the provided callable will be used directly. To keep current behavior pass the string \"sum\" instead.\n",
      "\n"
     ]
    }
   ],
   "source": [
    "# Scrapeo a wikipedia de las elecciones que faltan\n",
    "\n",
    "from funciones import limpiar_y_convertir_a_float\n",
    "\n",
    "# Eleecciones del 1962\n",
    "\n",
    "e_p_1962 = pd.read_html('https://es.wikipedia.org/wiki/Elecciones_generales_de_Uruguay_de_1962')\n",
    "\n",
    "e_p_1962 = e_p_1962[2]\n",
    "\n",
    "e_p_1962 = e_p_1962[['Partido político', 'Porcentaje']].iloc[0:18,]\n",
    "e_p_1962['Año'] = 1962\n",
    "e_p_1962 = e_p_1962.drop_duplicates()\n",
    "# Identifica caracteres invisibles\n",
    "print(repr(e_p_1962['Partido político'].unique()))\n",
    "e_p_1962['Partido político'] = e_p_1962['Partido político'].replace({'Frente Izquierda de Liberación[n 1]\\u200b':'Frente Izquierda de Liberacion'})\n",
    "e_p_1962['Partido político'] = e_p_1962['Partido político'].replace({'Unión Popular[n 2]\\u200b':'Union Popular'})\n",
    "diccio = {'Partido Nacional':'PN', 'Frente Amplio' : 'FA', 'Partido Colorado': 'PC'}\n",
    "e_p_1962['Sigla'] = e_p_1962['Partido político'].map(diccio)\n",
    "e_p_1962['Porcentaje'] = limpiar_y_convertir_a_float(e_p_1962['Porcentaje'])\n",
    "\n",
    "# Eleecciones del 1958\n",
    "e_p_1958 = pd.read_html('https://es.wikipedia.org/wiki/Elecciones_generales_de_Uruguay_de_1958')\n",
    "e_p_1958 = e_p_1958[2]\n",
    "e_p_1958 = e_p_1958[['Partido político', 'Porcentaje']].iloc[0:18,]\n",
    "e_p_1958['Año'] = 1958\n",
    "e_p_1958 = e_p_1958.drop_duplicates()\n",
    "e_p_1958['Sigla'] = e_p_1958['Partido político'].map(diccio)\n",
    "e_p_1958['Porcentaje'] = limpiar_y_convertir_a_float(e_p_1958['Porcentaje'])\n",
    "\n",
    "e_p_1958.rename(columns = {'Partido político':'Partido'}, inplace=True)\n",
    "e_p_1962.rename(columns = {'Partido político':'Partido'}, inplace=True)\n",
    "\n",
    "# Eleecciones del 1926\n",
    "#e_p_1926 = pd.read_html('https://es.wikipedia.org/wiki/Elecciones_generales_de_Uruguay_de_1926')\n",
    "#e_p_1926 = e_p_1926[1]\n",
    "#e_p_1926['Año'] = 1926\n",
    "#e_p_1926 = e_p_1958[['Partido político', 'Porcentaje']]\n",
    "#e_p_1926 = e_p_1926.drop_duplicates()\n",
    "#e_p_1926['Sigla'] = e_p_1926['Partido político'].map(diccio)\n",
    "#e_p_1926['Porcentaje'] = limpiar_y_convertir_a_float(e_p_1926['Porcentaje'])\n",
    "\n",
    "# df = pd.read_html('https://es.wikipedia.org/wiki/Elecciones_generales_de_Uruguay_de_2024') # WIKIPEDIA\n",
    "base = pd.read_html('https://umad-fcs.github.io/data_politica_uy/') # UMAD, base de datos con todas las elecciones\n",
    "e_p_1984 = base[11] # elecciones 1984\n",
    "e_p_1989 = base[12] # elecciones 1989\n",
    "e_p_1994 = base[13] # elecciones 1994\n",
    "e_p_1999 = base[14] # elecciones 1999\n",
    "e_p_2004 = base[15] # elecciones 2004\n",
    "e_p_2009 = base[16] # elecciones 2009\n",
    "e_p_2014 = base[17] # elecciones 2014\n",
    "e_p_2019 = base[18] # elecciones 2019\n",
    "from funciones import limpiar_y_convertir_a_float\n",
    "df = pd.concat([e_p_1984,e_p_1989,e_p_1994,e_p_1999,e_p_2004,e_p_2009,e_p_2014, e_p_2019], axis = 0) # unifico\n",
    "df['Porcentaje'] = limpiar_y_convertir_a_float(df['Porcentaje'])\n",
    "df['Fecha']= pd.to_datetime(df['Fecha'])\n",
    "df['Año'] = df['Fecha'].dt.year\n",
    "vb_va = df.query('Sigla == \"VA\" or Sigla == \"VB\"')\n",
    "vb_va['Porcentaje_suma'] = vb_va.groupby('Año')['Porcentaje'].transform(sum)\n",
    "vb_va['Suma'] = 'VA + VB' \n",
    "df['Partidos aliados'] = df['Partido'].replace({'Partido Nacional': 'Partidos fundacionales y aliados', 'Partido Colorado': 'Partidos fundacionales y aliados', 'Frente Amplio': 'Frente Amplio y aliados',\n",
    "                                       'Nuevo Espacio':'Frente Amplio y aliados', 'Cabildo Abierto':'Partidos fundacionales y aliados', 'Partido Independiente':'Partidos fundacionales y aliados'})\n",
    "\n",
    "df2 = df.query('Sigla in (\"PC\", \"PN\", \"CA\", \"FA\", \"PI\", \"NE\")').groupby(['Partidos aliados', 'Año'], as_index=False).sum(numeric_only=True).sort_values(by = ['Año', 'Partidos aliados'])\n",
    "\n",
    "# Pre dictadura (faltan las elecciones del 1926, 1958 y 1962)\n",
    "\n",
    "e_p_1971 = base[10] # elecciones 1971\n",
    "e_p_1966 = base[9] # elecciones 1966\n",
    "# faltan las del 1958 y 1962\n",
    "e_p_1954 = base[7] # elecciones 1954 \n",
    "e_p_1950 = base[6] # elecciones 1950\n",
    "e_p_1946 = base[5] # elecciones 1946\n",
    "e_p_1942 = base[4] # elecciones 1942\n",
    "e_p_1938 = base[3] # elecciones 1938\n",
    "e_p_1930 = base[2] # elecciones 1930\n",
    "e_p_1926 = base[1] # elecciones 1926\n",
    "e_p_1922 = base[0] # elecciones 1922\n",
    "from funciones import limpiar_y_convertir_a_float\n",
    "df_0 = pd.concat([e_p_1971,e_p_1966,e_p_1954,e_p_1950,e_p_1946,e_p_1942,e_p_1938, e_p_1930, e_p_1926, e_p_1922], axis = 0) # unifico\n",
    "df_0['Porcentaje'] = limpiar_y_convertir_a_float(df_0['Porcentaje'])\n",
    "df_0['Fecha']= pd.to_datetime(df_0['Fecha'])\n",
    "df_0['Año'] = df_0['Fecha'].dt.year\n",
    "df_0_0 = pd.concat([e_p_1962,e_p_1958], axis = 0)\n",
    "df_0_0['Porcentaje'] = limpiar_y_convertir_a_float(df_0_0['Porcentaje'])\n",
    "df_0 = pd.concat([df_0,df_0_0], axis = 0)\n",
    "df_0 = df_0.sort_values(by = 'Año', ascending=False)\n",
    "\n",
    "# Segundas vueltas\n",
    "\n",
    "s_v_1999 = pd.read_html('https://es.wikipedia.org/wiki/Elecciones_generales_de_Uruguay_de_1999')\n",
    "s_v_2009 = pd.read_html('https://es.wikipedia.org/wiki/Elecciones_generales_de_Uruguay_de_2009')\n",
    "s_v_2014 = pd.read_html('https://es.wikipedia.org/wiki/Elecciones_generales_de_Uruguay_de_2014')\n",
    "s_v_2019 = pd.read_html('https://es.wikipedia.org/wiki/Elecciones_generales_de_Uruguay_de_2019')\n",
    "\n",
    "s_v_1999 = s_v_1999[9]\n",
    "s_v_2009 = s_v_2009[12]\n",
    "s_v_2014 = s_v_2014[15]\n",
    "s_v_2019 = s_v_2019[18]\n",
    "\n",
    "s_v_1999 = s_v_1999[['Partido político / Coalición', 'Fórmula presidencial', 'Porcentaje de votos válidos']]\n",
    "s_v_1999['Año'] = 1999\n",
    "s_v_2009 = s_v_2009[['Partido político / Coalición', 'Fórmula presidencial', 'Porcentaje de votos válidos']]\n",
    "s_v_2009['Año'] = 2009\n",
    "s_v_2014 = s_v_2014[['Partido político / Coalición', 'Fórmula presidencial', 'Porcentaje de votos válidos']]\n",
    "s_v_2014['Año'] = 2014\n",
    "s_v_2019 = s_v_2019.rename(columns = {'Partido político':'Partido político / Coalición'})\n",
    "s_v_2019 = s_v_2019[['Partido político / Coalición', 'Fórmula presidencial', 'Porcentaje de votos válidos']]\n",
    "s_v_2019['Año'] = 2019\n",
    "\n",
    "df_3 = pd.concat([s_v_1999, s_v_2009, s_v_2014, s_v_2019], axis = 0)\n",
    "df_3 = df_3.rename(columns = {'Porcentaje de votos válidos':'Porcentaje'})\n",
    "df_3['Porcentaje'] = df_3['Porcentaje'].replace('-','0')\n",
    "df_3['Porcentaje'] = df_3['Porcentaje'].str.replace('%','')\n",
    "df_3 = df_3.reset_index(drop = True).drop(index = 32)\n",
    "segunda_vuelta = df_3[df_3['Porcentaje'].notna() & df_3['Porcentaje'].str.match(r'^.{6}$')]\n",
    "segunda_vuelta['Porcentaje']= limpiar_y_convertir_a_float(segunda_vuelta['Porcentaje'])\n",
    "segunda_vuelta['Porcentaje'] = segunda_vuelta['Porcentaje'].astype(float)\n",
    "segunda_vuelta = segunda_vuelta.rename(columns={'Partido político / Coalición':'Partido político'})\n",
    "segunda_vuelta['Partido político'] = segunda_vuelta['Partido político'].replace('Partido Socialista - Frente Amplio','Frente Amplio')"
   ]
  },
  {
   "cell_type": "markdown",
   "metadata": {},
   "source": [
    "### Posibles graficos a mostrar"
   ]
  },
  {
   "cell_type": "code",
   "execution_count": 59,
   "metadata": {},
   "outputs": [],
   "source": [
    "def graficar_histograma_por_anio(df, anio):\n",
    "    # Filtrar el DataFrame por el año especificado\n",
    "    df_filtrado = df[df[\"Año\"] == anio]\n",
    "    \n",
    "    # Crear el histograma usando Plotly Express\n",
    "    fig = px.histogram(df_filtrado, x='Partido', y='Porcentaje', color='Partido',color_discrete_map=color_map,\n",
    "                       title=f\"Resultados de las elecciones en {anio}\",\n",
    "                       labels={'Partido': 'Partido Político', 'Porcentaje': 'Porcentaje de Votos'},\n",
    "                       text_auto=True)\n",
    "\n",
    "    # Ajustar el diseño del gráfico\n",
    "    fig.update_layout(bargap=0.2, template=\"plotly_white\")\n",
    "    return fig"
   ]
  },
  {
   "cell_type": "code",
   "execution_count": 56,
   "metadata": {},
   "outputs": [],
   "source": [
    "# Genero tablero (que al final no coloco)\n",
    "\n",
    "cant_elecciones = df['Año'].nunique()\n",
    "cant_partidos = df['Partido'].nunique()\n",
    "# Seleccionar únicamente las filas correspondientes a esos índices\n",
    "ganadores = df.loc[df.groupby('Año')['Porcentaje'].idxmax(), ['Año', 'Partido', 'Porcentaje']].drop_duplicates()\n",
    "partido_max_ganador = ganadores.groupby('Partido').size().reset_index(name = 'cantidad').iloc[0,0]\n",
    "cant_elecciones_max_ganador = max(ganadores['Partido'].value_counts())\n",
    "\n",
    "tabla = pd.DataFrame({'Cantidad de elecciones':[cant_elecciones],\n",
    "                      'Cantidad de partidos':[cant_partidos],\n",
    "                      'Partido más ganador':[partido_max_ganador],\n",
    "                      'Cantidad de primeras vueltas ganadas':[cant_elecciones_max_ganador]})"
   ]
  },
  {
   "cell_type": "code",
   "execution_count": 45,
   "metadata": {},
   "outputs": [
    {
     "data": {
      "application/vnd.plotly.v1+json": {
       "config": {
        "plotlyServerURL": "https://plot.ly"
       },
       "data": [
        {
         "alignmentgroup": "True",
         "hovertemplate": "Partido=Partido Colorado<br>Año=%{x}<br>Porcentaje=%{y}<extra></extra>",
         "legendgroup": "Partido Colorado",
         "marker": {
          "color": "#d62728",
          "pattern": {
           "shape": ""
          }
         },
         "name": "Partido Colorado",
         "offsetgroup": "Partido Colorado",
         "orientation": "v",
         "showlegend": true,
         "textposition": "auto",
         "type": "bar",
         "x": [
          1971,
          1966,
          1962,
          1958,
          1954,
          1950,
          1946,
          1942,
          1938,
          1930,
          1926,
          1922
         ],
         "xaxis": "x",
         "y": [
          39.8,
          49.33,
          44.51,
          37.7,
          50.55,
          52.33,
          46.32,
          57.18,
          58.37,
          52.12,
          50.12,
          50.41
         ],
         "yaxis": "y"
        },
        {
         "alignmentgroup": "True",
         "hovertemplate": "Partido=Partido Nacional<br>Año=%{x}<br>Porcentaje=%{y}<extra></extra>",
         "legendgroup": "Partido Nacional",
         "marker": {
          "color": "#87CEEB",
          "pattern": {
           "shape": ""
          }
         },
         "name": "Partido Nacional",
         "offsetgroup": "Partido Nacional",
         "orientation": "v",
         "showlegend": true,
         "textposition": "auto",
         "type": "bar",
         "x": [
          1971,
          1966,
          1962,
          1958,
          1954,
          1950,
          1946,
          1942,
          1938,
          1930,
          1926,
          1922
         ],
         "xaxis": "x",
         "y": [
          39.05,
          40.34,
          46.54,
          49.68,
          35.24,
          30.77,
          31.05,
          22.84,
          30.49,
          47.16,
          47.31,
          48.29
         ],
         "yaxis": "y"
        },
        {
         "alignmentgroup": "True",
         "hovertemplate": "Partido=Frente Amplio<br>Año=%{x}<br>Porcentaje=%{y}<extra></extra>",
         "legendgroup": "Frente Amplio",
         "marker": {
          "color": "#2ca02c",
          "pattern": {
           "shape": ""
          }
         },
         "name": "Frente Amplio",
         "offsetgroup": "Frente Amplio",
         "orientation": "v",
         "showlegend": true,
         "textposition": "auto",
         "type": "bar",
         "x": [
          1971
         ],
         "xaxis": "x",
         "y": [
          17.77
         ],
         "yaxis": "y"
        },
        {
         "alignmentgroup": "True",
         "hovertemplate": "Partido=Voto Anulado<br>Año=%{x}<br>Porcentaje=%{y}<extra></extra>",
         "legendgroup": "Voto Anulado",
         "marker": {
          "color": "rgb(140,140,140)",
          "pattern": {
           "shape": ""
          }
         },
         "name": "Voto Anulado",
         "offsetgroup": "Voto Anulado",
         "orientation": "v",
         "showlegend": true,
         "textposition": "auto",
         "type": "bar",
         "x": [
          1971
         ],
         "xaxis": "x",
         "y": [
          2.48
         ],
         "yaxis": "y"
        },
        {
         "alignmentgroup": "True",
         "hovertemplate": "Partido=Union Radical Cristiana<br>Año=%{x}<br>Porcentaje=%{y}<extra></extra>",
         "legendgroup": "Union Radical Cristiana",
         "marker": {
          "color": "rgb(204,185,116)",
          "pattern": {
           "shape": ""
          }
         },
         "name": "Union Radical Cristiana",
         "offsetgroup": "Union Radical Cristiana",
         "orientation": "v",
         "showlegend": true,
         "textposition": "auto",
         "type": "bar",
         "x": [
          1971
         ],
         "xaxis": "x",
         "y": [
          0.52
         ],
         "yaxis": "y"
        },
        {
         "alignmentgroup": "True",
         "hovertemplate": "Partido=Voto en Blanco<br>Año=%{x}<br>Porcentaje=%{y}<extra></extra>",
         "legendgroup": "Voto en Blanco",
         "marker": {
          "color": "rgb(100,181,205)",
          "pattern": {
           "shape": ""
          }
         },
         "name": "Voto en Blanco",
         "offsetgroup": "Voto en Blanco",
         "orientation": "v",
         "showlegend": true,
         "textposition": "auto",
         "type": "bar",
         "x": [
          1971
         ],
         "xaxis": "x",
         "y": [
          0.36
         ],
         "yaxis": "y"
        },
        {
         "alignmentgroup": "True",
         "hovertemplate": "Partido=Partido de Jubilados y Pensionistas<br>Año=%{x}<br>Porcentaje=%{y}<extra></extra>",
         "legendgroup": "Partido de Jubilados y Pensionistas",
         "marker": {
          "color": "rgb(76,114,176)",
          "pattern": {
           "shape": ""
          }
         },
         "name": "Partido de Jubilados y Pensionistas",
         "offsetgroup": "Partido de Jubilados y Pensionistas",
         "orientation": "v",
         "showlegend": true,
         "textposition": "auto",
         "type": "bar",
         "x": [
          1971
         ],
         "xaxis": "x",
         "y": [
          0.02
         ],
         "yaxis": "y"
        },
        {
         "alignmentgroup": "True",
         "hovertemplate": "Partido=Movimiento Justiciero<br>Año=%{x}<br>Porcentaje=%{y}<extra></extra>",
         "legendgroup": "Movimiento Justiciero",
         "marker": {
          "color": "rgb(221,132,82)",
          "pattern": {
           "shape": ""
          }
         },
         "name": "Movimiento Justiciero",
         "offsetgroup": "Movimiento Justiciero",
         "orientation": "v",
         "showlegend": true,
         "textposition": "auto",
         "type": "bar",
         "x": [
          1971
         ],
         "xaxis": "x",
         "y": [
          0.01
         ],
         "yaxis": "y"
        },
        {
         "alignmentgroup": "True",
         "hovertemplate": "Partido=Partido Juventud por el Desarrollo Oriental<br>Año=%{x}<br>Porcentaje=%{y}<extra></extra>",
         "legendgroup": "Partido Juventud por el Desarrollo Oriental",
         "marker": {
          "color": "rgb(85,168,104)",
          "pattern": {
           "shape": ""
          }
         },
         "name": "Partido Juventud por el Desarrollo Oriental",
         "offsetgroup": "Partido Juventud por el Desarrollo Oriental",
         "orientation": "v",
         "showlegend": true,
         "textposition": "auto",
         "type": "bar",
         "x": [
          1971
         ],
         "xaxis": "x",
         "y": [
          0
         ],
         "yaxis": "y"
        },
        {
         "alignmentgroup": "True",
         "hovertemplate": "Partido=Frente Izquierda de Liberacion<br>Año=%{x}<br>Porcentaje=%{y}<extra></extra>",
         "legendgroup": "Frente Izquierda de Liberacion",
         "marker": {
          "color": "rgb(196,78,82)",
          "pattern": {
           "shape": ""
          }
         },
         "name": "Frente Izquierda de Liberacion",
         "offsetgroup": "Frente Izquierda de Liberacion",
         "orientation": "v",
         "showlegend": true,
         "textposition": "auto",
         "type": "bar",
         "x": [
          1966,
          1962
         ],
         "xaxis": "x",
         "y": [
          5.66,
          3.49
         ],
         "yaxis": "y"
        },
        {
         "alignmentgroup": "True",
         "hovertemplate": "Partido=Partido Democrata Cristiano<br>Año=%{x}<br>Porcentaje=%{y}<extra></extra>",
         "legendgroup": "Partido Democrata Cristiano",
         "marker": {
          "color": "rgb(129,114,179)",
          "pattern": {
           "shape": ""
          }
         },
         "name": "Partido Democrata Cristiano",
         "offsetgroup": "Partido Democrata Cristiano",
         "orientation": "v",
         "showlegend": true,
         "textposition": "auto",
         "type": "bar",
         "x": [
          1966
         ],
         "xaxis": "x",
         "y": [
          3.02
         ],
         "yaxis": "y"
        },
        {
         "alignmentgroup": "True",
         "hovertemplate": "Partido=Partido Socialista<br>Año=%{x}<br>Porcentaje=%{y}<extra></extra>",
         "legendgroup": "Partido Socialista",
         "marker": {
          "color": "#FFD700",
          "pattern": {
           "shape": ""
          }
         },
         "name": "Partido Socialista",
         "offsetgroup": "Partido Socialista",
         "orientation": "v",
         "showlegend": true,
         "textposition": "auto",
         "type": "bar",
         "x": [
          1966,
          1954,
          1950,
          1946,
          1942,
          1938
         ],
         "xaxis": "x",
         "y": [
          0.94,
          3.26,
          2.1,
          2.35,
          1.57,
          3.5
         ],
         "yaxis": "y"
        },
        {
         "alignmentgroup": "True",
         "hovertemplate": "Partido=Movimiento Civico Cristiano<br>Año=%{x}<br>Porcentaje=%{y}<extra></extra>",
         "legendgroup": "Movimiento Civico Cristiano",
         "marker": {
          "color": "rgb(147,120,96)",
          "pattern": {
           "shape": ""
          }
         },
         "name": "Movimiento Civico Cristiano",
         "offsetgroup": "Movimiento Civico Cristiano",
         "orientation": "v",
         "showlegend": true,
         "textposition": "auto",
         "type": "bar",
         "x": [
          1966
         ],
         "xaxis": "x",
         "y": [
          0.34
         ],
         "yaxis": "y"
        },
        {
         "alignmentgroup": "True",
         "hovertemplate": "Partido=Union Popular<br>Año=%{x}<br>Porcentaje=%{y}<extra></extra>",
         "legendgroup": "Union Popular",
         "marker": {
          "color": "rgb(218,139,195)",
          "pattern": {
           "shape": ""
          }
         },
         "name": "Union Popular",
         "offsetgroup": "Union Popular",
         "orientation": "v",
         "showlegend": true,
         "textposition": "auto",
         "type": "bar",
         "x": [
          1966,
          1962
         ],
         "xaxis": "x",
         "y": [
          0.22,
          2.31
         ],
         "yaxis": "y"
        },
        {
         "alignmentgroup": "True",
         "hovertemplate": "Partido=Partido Agrario y del Trabajo<br>Año=%{x}<br>Porcentaje=%{y}<extra></extra>",
         "legendgroup": "Partido Agrario y del Trabajo",
         "marker": {
          "color": "rgb(140,140,140)",
          "pattern": {
           "shape": ""
          }
         },
         "name": "Partido Agrario y del Trabajo",
         "offsetgroup": "Partido Agrario y del Trabajo",
         "orientation": "v",
         "showlegend": true,
         "textposition": "auto",
         "type": "bar",
         "x": [
          1966
         ],
         "xaxis": "x",
         "y": [
          0.13
         ],
         "yaxis": "y"
        },
        {
         "alignmentgroup": "True",
         "hovertemplate": "Partido=Partido Laborista<br>Año=%{x}<br>Porcentaje=%{y}<extra></extra>",
         "legendgroup": "Partido Laborista",
         "marker": {
          "color": "rgb(204,185,116)",
          "pattern": {
           "shape": ""
          }
         },
         "name": "Partido Laborista",
         "offsetgroup": "Partido Laborista",
         "orientation": "v",
         "showlegend": true,
         "textposition": "auto",
         "type": "bar",
         "x": [
          1966,
          1962,
          1958
         ],
         "xaxis": "x",
         "y": [
          0.01,
          0,
          0.01
         ],
         "yaxis": "y"
        },
        {
         "alignmentgroup": "True",
         "hovertemplate": "Partido=Partido Federal<br>Año=%{x}<br>Porcentaje=%{y}<extra></extra>",
         "legendgroup": "Partido Federal",
         "marker": {
          "color": "rgb(100,181,205)",
          "pattern": {
           "shape": ""
          }
         },
         "name": "Partido Federal",
         "offsetgroup": "Partido Federal",
         "orientation": "v",
         "showlegend": true,
         "textposition": "auto",
         "type": "bar",
         "x": [
          1966,
          1962
         ],
         "xaxis": "x",
         "y": [
          0.01,
          0.01
         ],
         "yaxis": "y"
        },
        {
         "alignmentgroup": "True",
         "hovertemplate": "Partido=Partido por el Departamento de Solis<br>Año=%{x}<br>Porcentaje=%{y}<extra></extra>",
         "legendgroup": "Partido por el Departamento de Solis",
         "marker": {
          "color": "rgb(76,114,176)",
          "pattern": {
           "shape": ""
          }
         },
         "name": "Partido por el Departamento de Solis",
         "offsetgroup": "Partido por el Departamento de Solis",
         "orientation": "v",
         "showlegend": true,
         "textposition": "auto",
         "type": "bar",
         "x": [
          1966
         ],
         "xaxis": "x",
         "y": [
          0
         ],
         "yaxis": "y"
        },
        {
         "alignmentgroup": "True",
         "hovertemplate": "Partido=Partido Demócrata Cristiano<br>Año=%{x}<br>Porcentaje=%{y}<extra></extra>",
         "legendgroup": "Partido Demócrata Cristiano",
         "marker": {
          "color": "rgb(221,132,82)",
          "pattern": {
           "shape": ""
          }
         },
         "name": "Partido Demócrata Cristiano",
         "offsetgroup": "Partido Demócrata Cristiano",
         "orientation": "v",
         "showlegend": true,
         "textposition": "auto",
         "type": "bar",
         "x": [
          1962
         ],
         "xaxis": "x",
         "y": [
          3.05
         ],
         "yaxis": "y"
        },
        {
         "alignmentgroup": "True",
         "hovertemplate": "Partido=Partido de los Trabajadores<br>Año=%{x}<br>Porcentaje=%{y}<extra></extra>",
         "legendgroup": "Partido de los Trabajadores",
         "marker": {
          "color": "rgb(85,168,104)",
          "pattern": {
           "shape": ""
          }
         },
         "name": "Partido de los Trabajadores",
         "offsetgroup": "Partido de los Trabajadores",
         "orientation": "v",
         "showlegend": true,
         "textposition": "auto",
         "type": "bar",
         "x": [
          1962
         ],
         "xaxis": "x",
         "y": [
          0
         ],
         "yaxis": "y"
        },
        {
         "alignmentgroup": "True",
         "hovertemplate": "Partido=Partido por el Departamento de Solís<br>Año=%{x}<br>Porcentaje=%{y}<extra></extra>",
         "legendgroup": "Partido por el Departamento de Solís",
         "marker": {
          "color": "rgb(196,78,82)",
          "pattern": {
           "shape": ""
          }
         },
         "name": "Partido por el Departamento de Solís",
         "offsetgroup": "Partido por el Departamento de Solís",
         "orientation": "v",
         "showlegend": true,
         "textposition": "auto",
         "type": "bar",
         "x": [
          1962
         ],
         "xaxis": "x",
         "y": [
          0.01
         ],
         "yaxis": "y"
        },
        {
         "alignmentgroup": "True",
         "hovertemplate": "Partido=Partido Obrero Revolucionario<br>Año=%{x}<br>Porcentaje=%{y}<extra></extra>",
         "legendgroup": "Partido Obrero Revolucionario",
         "marker": {
          "color": "rgb(129,114,179)",
          "pattern": {
           "shape": ""
          }
         },
         "name": "Partido Obrero Revolucionario",
         "offsetgroup": "Partido Obrero Revolucionario",
         "orientation": "v",
         "showlegend": true,
         "textposition": "auto",
         "type": "bar",
         "x": [
          1962,
          1958
         ],
         "xaxis": "x",
         "y": [
          0.02,
          0.01
         ],
         "yaxis": "y"
        },
        {
         "alignmentgroup": "True",
         "hovertemplate": "Partido=Movimiento Progresista<br>Año=%{x}<br>Porcentaje=%{y}<extra></extra>",
         "legendgroup": "Movimiento Progresista",
         "marker": {
          "color": "rgb(147,120,96)",
          "pattern": {
           "shape": ""
          }
         },
         "name": "Movimiento Progresista",
         "offsetgroup": "Movimiento Progresista",
         "orientation": "v",
         "showlegend": true,
         "textposition": "auto",
         "type": "bar",
         "x": [
          1962
         ],
         "xaxis": "x",
         "y": [
          0.06
         ],
         "yaxis": "y"
        },
        {
         "alignmentgroup": "True",
         "hovertemplate": "Partido=Unión Demócrata Reformista<br>Año=%{x}<br>Porcentaje=%{y}<extra></extra>",
         "legendgroup": "Unión Demócrata Reformista",
         "marker": {
          "color": "rgb(218,139,195)",
          "pattern": {
           "shape": ""
          }
         },
         "name": "Unión Demócrata Reformista",
         "offsetgroup": "Unión Demócrata Reformista",
         "orientation": "v",
         "showlegend": true,
         "textposition": "auto",
         "type": "bar",
         "x": [
          1958
         ],
         "xaxis": "x",
         "y": [
          1.99
         ],
         "yaxis": "y"
        },
        {
         "alignmentgroup": "True",
         "hovertemplate": "Partido=Movimiento Renovador<br>Año=%{x}<br>Porcentaje=%{y}<extra></extra>",
         "legendgroup": "Movimiento Renovador",
         "marker": {
          "color": "rgb(140,140,140)",
          "pattern": {
           "shape": ""
          }
         },
         "name": "Movimiento Renovador",
         "offsetgroup": "Movimiento Renovador",
         "orientation": "v",
         "showlegend": true,
         "textposition": "auto",
         "type": "bar",
         "x": [
          1958
         ],
         "xaxis": "x",
         "y": [
          0.63
         ],
         "yaxis": "y"
        },
        {
         "alignmentgroup": "True",
         "hovertemplate": "Partido=Partido Socialista del Uruguay<br>Año=%{x}<br>Porcentaje=%{y}<extra></extra>",
         "legendgroup": "Partido Socialista del Uruguay",
         "marker": {
          "color": "rgb(204,185,116)",
          "pattern": {
           "shape": ""
          }
         },
         "name": "Partido Socialista del Uruguay",
         "offsetgroup": "Partido Socialista del Uruguay",
         "orientation": "v",
         "showlegend": true,
         "textposition": "auto",
         "type": "bar",
         "x": [
          1958
         ],
         "xaxis": "x",
         "y": [
          3.53
         ],
         "yaxis": "y"
        },
        {
         "alignmentgroup": "True",
         "hovertemplate": "Partido=Partido Comunista de Uruguay<br>Año=%{x}<br>Porcentaje=%{y}<extra></extra>",
         "legendgroup": "Partido Comunista de Uruguay",
         "marker": {
          "color": "rgb(100,181,205)",
          "pattern": {
           "shape": ""
          }
         },
         "name": "Partido Comunista de Uruguay",
         "offsetgroup": "Partido Comunista de Uruguay",
         "orientation": "v",
         "showlegend": true,
         "textposition": "auto",
         "type": "bar",
         "x": [
          1958
         ],
         "xaxis": "x",
         "y": [
          2.69
         ],
         "yaxis": "y"
        },
        {
         "alignmentgroup": "True",
         "hovertemplate": "Partido=Unión Cívica del Uruguay<br>Año=%{x}<br>Porcentaje=%{y}<extra></extra>",
         "legendgroup": "Unión Cívica del Uruguay",
         "marker": {
          "color": "rgb(76,114,176)",
          "pattern": {
           "shape": ""
          }
         },
         "name": "Unión Cívica del Uruguay",
         "offsetgroup": "Unión Cívica del Uruguay",
         "orientation": "v",
         "showlegend": true,
         "textposition": "auto",
         "type": "bar",
         "x": [
          1958
         ],
         "xaxis": "x",
         "y": [
          3.74
         ],
         "yaxis": "y"
        },
        {
         "alignmentgroup": "True",
         "hovertemplate": "Partido=Partido Clases Pasivas y Seguridad Social<br>Año=%{x}<br>Porcentaje=%{y}<extra></extra>",
         "legendgroup": "Partido Clases Pasivas y Seguridad Social",
         "marker": {
          "color": "rgb(221,132,82)",
          "pattern": {
           "shape": ""
          }
         },
         "name": "Partido Clases Pasivas y Seguridad Social",
         "offsetgroup": "Partido Clases Pasivas y Seguridad Social",
         "orientation": "v",
         "showlegend": true,
         "textposition": "auto",
         "type": "bar",
         "x": [
          1958
         ],
         "xaxis": "x",
         "y": [
          0.01
         ],
         "yaxis": "y"
        },
        {
         "alignmentgroup": "True",
         "hovertemplate": "Partido=Partido Nacional Independiente<br>Año=%{x}<br>Porcentaje=%{y}<extra></extra>",
         "legendgroup": "Partido Nacional Independiente",
         "marker": {
          "color": "rgb(85,168,104)",
          "pattern": {
           "shape": ""
          }
         },
         "name": "Partido Nacional Independiente",
         "offsetgroup": "Partido Nacional Independiente",
         "orientation": "v",
         "showlegend": true,
         "textposition": "auto",
         "type": "bar",
         "x": [
          1954,
          1950,
          1946,
          1942
         ],
         "xaxis": "x",
         "y": [
          3.68,
          7.57,
          9.39,
          11.66
         ],
         "yaxis": "y"
        },
        {
         "alignmentgroup": "True",
         "hovertemplate": "Partido=Union Civica<br>Año=%{x}<br>Porcentaje=%{y}<extra></extra>",
         "legendgroup": "Union Civica",
         "marker": {
          "color": "rgb(196,78,82)",
          "pattern": {
           "shape": ""
          }
         },
         "name": "Union Civica",
         "offsetgroup": "Union Civica",
         "orientation": "v",
         "showlegend": true,
         "textposition": "auto",
         "type": "bar",
         "x": [
          1954,
          1950,
          1946,
          1942,
          1938
         ],
         "xaxis": "x",
         "y": [
          5.03,
          4.36,
          5.25,
          4.25,
          3.94
         ],
         "yaxis": "y"
        },
        {
         "alignmentgroup": "True",
         "hovertemplate": "Partido=Partido Comunista del Uruguay<br>Año=%{x}<br>Porcentaje=%{y}<extra></extra>",
         "legendgroup": "Partido Comunista del Uruguay",
         "marker": {
          "color": "rgb(129,114,179)",
          "pattern": {
           "shape": ""
          }
         },
         "name": "Partido Comunista del Uruguay",
         "offsetgroup": "Partido Comunista del Uruguay",
         "orientation": "v",
         "showlegend": true,
         "textposition": "auto",
         "type": "bar",
         "x": [
          1954,
          1950,
          1946,
          1942,
          1938,
          1930,
          1926,
          1922
         ],
         "xaxis": "x",
         "y": [
          2.22,
          2.3,
          4.88,
          2.49,
          1.53,
          0.72,
          1.28,
          1.3
         ],
         "yaxis": "y"
        },
        {
         "alignmentgroup": "True",
         "hovertemplate": "Partido=Frente Anticolegialista del Pueblo<br>Año=%{x}<br>Porcentaje=%{y}<extra></extra>",
         "legendgroup": "Frente Anticolegialista del Pueblo",
         "marker": {
          "color": "rgb(147,120,96)",
          "pattern": {
           "shape": ""
          }
         },
         "name": "Frente Anticolegialista del Pueblo",
         "offsetgroup": "Frente Anticolegialista del Pueblo",
         "orientation": "v",
         "showlegend": true,
         "textposition": "auto",
         "type": "bar",
         "x": [
          1954
         ],
         "xaxis": "x",
         "y": [
          0.01
         ],
         "yaxis": "y"
        },
        {
         "alignmentgroup": "True",
         "hovertemplate": "Partido=Partido Obrero<br>Año=%{x}<br>Porcentaje=%{y}<extra></extra>",
         "legendgroup": "Partido Obrero",
         "marker": {
          "color": "rgb(218,139,195)",
          "pattern": {
           "shape": ""
          }
         },
         "name": "Partido Obrero",
         "offsetgroup": "Partido Obrero",
         "orientation": "v",
         "showlegend": true,
         "textposition": "auto",
         "type": "bar",
         "x": [
          1954
         ],
         "xaxis": "x",
         "y": [
          0.01
         ],
         "yaxis": "y"
        },
        {
         "alignmentgroup": "True",
         "hovertemplate": "Partido=Partido del Pueblo<br>Año=%{x}<br>Porcentaje=%{y}<extra></extra>",
         "legendgroup": "Partido del Pueblo",
         "marker": {
          "color": "rgb(140,140,140)",
          "pattern": {
           "shape": ""
          }
         },
         "name": "Partido del Pueblo",
         "offsetgroup": "Partido del Pueblo",
         "orientation": "v",
         "showlegend": true,
         "textposition": "auto",
         "type": "bar",
         "x": [
          1950
         ],
         "xaxis": "x",
         "y": [
          0
         ],
         "yaxis": "y"
        },
        {
         "alignmentgroup": "True",
         "hovertemplate": "Partido=Partido la Concordancia<br>Año=%{x}<br>Porcentaje=%{y}<extra></extra>",
         "legendgroup": "Partido la Concordancia",
         "marker": {
          "color": "rgb(204,185,116)",
          "pattern": {
           "shape": ""
          }
         },
         "name": "Partido la Concordancia",
         "offsetgroup": "Partido la Concordancia",
         "orientation": "v",
         "showlegend": true,
         "textposition": "auto",
         "type": "bar",
         "x": [
          1950,
          1942
         ],
         "xaxis": "x",
         "y": [
          0,
          0.01
         ],
         "yaxis": "y"
        },
        {
         "alignmentgroup": "True",
         "hovertemplate": "Partido=Partido Liberal<br>Año=%{x}<br>Porcentaje=%{y}<extra></extra>",
         "legendgroup": "Partido Liberal",
         "marker": {
          "color": "rgb(100,181,205)",
          "pattern": {
           "shape": ""
          }
         },
         "name": "Partido Liberal",
         "offsetgroup": "Partido Liberal",
         "orientation": "v",
         "showlegend": true,
         "textposition": "auto",
         "type": "bar",
         "x": [
          1950
         ],
         "xaxis": "x",
         "y": [
          0
         ],
         "yaxis": "y"
        },
        {
         "alignmentgroup": "True",
         "hovertemplate": "Partido=Partido Democrata<br>Año=%{x}<br>Porcentaje=%{y}<extra></extra>",
         "legendgroup": "Partido Democrata",
         "marker": {
          "color": "rgb(76,114,176)",
          "pattern": {
           "shape": ""
          }
         },
         "name": "Partido Democrata",
         "offsetgroup": "Partido Democrata",
         "orientation": "v",
         "showlegend": true,
         "textposition": "auto",
         "type": "bar",
         "x": [
          1950,
          1946
         ],
         "xaxis": "x",
         "y": [
          0.57,
          0.76
         ],
         "yaxis": "y"
        },
        {
         "alignmentgroup": "True",
         "hovertemplate": "Partido=Partido por la Defensa de los Derechos Ciudadanos<br>Año=%{x}<br>Porcentaje=%{y}<extra></extra>",
         "legendgroup": "Partido por la Defensa de los Derechos Ciudadanos",
         "marker": {
          "color": "rgb(221,132,82)",
          "pattern": {
           "shape": ""
          }
         },
         "name": "Partido por la Defensa de los Derechos Ciudadanos",
         "offsetgroup": "Partido por la Defensa de los Derechos Ciudadanos",
         "orientation": "v",
         "showlegend": true,
         "textposition": "auto",
         "type": "bar",
         "x": [
          1950
         ],
         "xaxis": "x",
         "y": [
          0
         ],
         "yaxis": "y"
        },
        {
         "alignmentgroup": "True",
         "hovertemplate": "Partido=Partido por la Concordancia<br>Año=%{x}<br>Porcentaje=%{y}<extra></extra>",
         "legendgroup": "Partido por la Concordancia",
         "marker": {
          "color": "rgb(85,168,104)",
          "pattern": {
           "shape": ""
          }
         },
         "name": "Partido por la Concordancia",
         "offsetgroup": "Partido por la Concordancia",
         "orientation": "v",
         "showlegend": true,
         "textposition": "auto",
         "type": "bar",
         "x": [
          1938
         ],
         "xaxis": "x",
         "y": [
          0.02
         ],
         "yaxis": "y"
        },
        {
         "alignmentgroup": "True",
         "hovertemplate": "Partido=Partido Autonomo Negro<br>Año=%{x}<br>Porcentaje=%{y}<extra></extra>",
         "legendgroup": "Partido Autonomo Negro",
         "marker": {
          "color": "rgb(196,78,82)",
          "pattern": {
           "shape": ""
          }
         },
         "name": "Partido Autonomo Negro",
         "offsetgroup": "Partido Autonomo Negro",
         "orientation": "v",
         "showlegend": true,
         "textposition": "auto",
         "type": "bar",
         "x": [
          1938
         ],
         "xaxis": "x",
         "y": [
          0.02
         ],
         "yaxis": "y"
        },
        {
         "alignmentgroup": "True",
         "hovertemplate": "Partido=Partido Independiente Democrata Feminista<br>Año=%{x}<br>Porcentaje=%{y}<extra></extra>",
         "legendgroup": "Partido Independiente Democrata Feminista",
         "marker": {
          "color": "rgb(129,114,179)",
          "pattern": {
           "shape": ""
          }
         },
         "name": "Partido Independiente Democrata Feminista",
         "offsetgroup": "Partido Independiente Democrata Feminista",
         "orientation": "v",
         "showlegend": true,
         "textposition": "auto",
         "type": "bar",
         "x": [
          1938
         ],
         "xaxis": "x",
         "y": [
          0.03
         ],
         "yaxis": "y"
        },
        {
         "alignmentgroup": "True",
         "hovertemplate": "Partido=Concentracion Candida Diaz de Saravia<br>Año=%{x}<br>Porcentaje=%{y}<extra></extra>",
         "legendgroup": "Concentracion Candida Diaz de Saravia",
         "marker": {
          "color": "rgb(147,120,96)",
          "pattern": {
           "shape": ""
          }
         },
         "name": "Concentracion Candida Diaz de Saravia",
         "offsetgroup": "Concentracion Candida Diaz de Saravia",
         "orientation": "v",
         "showlegend": true,
         "textposition": "auto",
         "type": "bar",
         "x": [
          1938
         ],
         "xaxis": "x",
         "y": [
          2.1
         ],
         "yaxis": "y"
        },
        {
         "alignmentgroup": "True",
         "hovertemplate": "Partido=General Melchor Pacheco y Obes<br>Año=%{x}<br>Porcentaje=%{y}<extra></extra>",
         "legendgroup": "General Melchor Pacheco y Obes",
         "marker": {
          "color": "rgb(218,139,195)",
          "pattern": {
           "shape": ""
          }
         },
         "name": "General Melchor Pacheco y Obes",
         "offsetgroup": "General Melchor Pacheco y Obes",
         "orientation": "v",
         "showlegend": true,
         "textposition": "auto",
         "type": "bar",
         "x": [
          1938
         ],
         "xaxis": "x",
         "y": [
          0
         ],
         "yaxis": "y"
        },
        {
         "alignmentgroup": "True",
         "hovertemplate": "Partido=Partido Blanco<br>Año=%{x}<br>Porcentaje=%{y}<extra></extra>",
         "legendgroup": "Partido Blanco",
         "marker": {
          "color": "rgb(140,140,140)",
          "pattern": {
           "shape": ""
          }
         },
         "name": "Partido Blanco",
         "offsetgroup": "Partido Blanco",
         "orientation": "v",
         "showlegend": true,
         "textposition": "auto",
         "type": "bar",
         "x": [
          1926
         ],
         "xaxis": "x",
         "y": [
          1.3
         ],
         "yaxis": "y"
        }
       ],
       "layout": {
        "barmode": "relative",
        "legend": {
         "title": {
          "text": "Partido"
         },
         "tracegroupgap": 0
        },
        "template": {
         "data": {
          "bar": [
           {
            "error_x": {
             "color": "rgb(36,36,36)"
            },
            "error_y": {
             "color": "rgb(36,36,36)"
            },
            "marker": {
             "line": {
              "color": "rgb(234,234,242)",
              "width": 0.5
             },
             "pattern": {
              "fillmode": "overlay",
              "size": 10,
              "solidity": 0.2
             }
            },
            "type": "bar"
           }
          ],
          "barpolar": [
           {
            "marker": {
             "line": {
              "color": "rgb(234,234,242)",
              "width": 0.5
             },
             "pattern": {
              "fillmode": "overlay",
              "size": 10,
              "solidity": 0.2
             }
            },
            "type": "barpolar"
           }
          ],
          "carpet": [
           {
            "aaxis": {
             "endlinecolor": "rgb(36,36,36)",
             "gridcolor": "white",
             "linecolor": "white",
             "minorgridcolor": "white",
             "startlinecolor": "rgb(36,36,36)"
            },
            "baxis": {
             "endlinecolor": "rgb(36,36,36)",
             "gridcolor": "white",
             "linecolor": "white",
             "minorgridcolor": "white",
             "startlinecolor": "rgb(36,36,36)"
            },
            "type": "carpet"
           }
          ],
          "choropleth": [
           {
            "colorbar": {
             "outlinewidth": 0,
             "tickcolor": "rgb(36,36,36)",
             "ticklen": 8,
             "ticks": "outside",
             "tickwidth": 2
            },
            "type": "choropleth"
           }
          ],
          "contour": [
           {
            "colorbar": {
             "outlinewidth": 0,
             "tickcolor": "rgb(36,36,36)",
             "ticklen": 8,
             "ticks": "outside",
             "tickwidth": 2
            },
            "colorscale": [
             [
              0,
              "rgb(2,4,25)"
             ],
             [
              0.06274509803921569,
              "rgb(24,15,41)"
             ],
             [
              0.12549019607843137,
              "rgb(47,23,57)"
             ],
             [
              0.18823529411764706,
              "rgb(71,28,72)"
             ],
             [
              0.25098039215686274,
              "rgb(97,30,82)"
             ],
             [
              0.3137254901960784,
              "rgb(123,30,89)"
             ],
             [
              0.3764705882352941,
              "rgb(150,27,91)"
             ],
             [
              0.4392156862745098,
              "rgb(177,22,88)"
             ],
             [
              0.5019607843137255,
              "rgb(203,26,79)"
             ],
             [
              0.5647058823529412,
              "rgb(223,47,67)"
             ],
             [
              0.6274509803921569,
              "rgb(236,76,61)"
             ],
             [
              0.6901960784313725,
              "rgb(242,107,73)"
             ],
             [
              0.7529411764705882,
              "rgb(244,135,95)"
             ],
             [
              0.8156862745098039,
              "rgb(245,162,122)"
             ],
             [
              0.8784313725490196,
              "rgb(246,188,153)"
             ],
             [
              0.9411764705882353,
              "rgb(247,212,187)"
             ],
             [
              1,
              "rgb(250,234,220)"
             ]
            ],
            "type": "contour"
           }
          ],
          "contourcarpet": [
           {
            "colorbar": {
             "outlinewidth": 0,
             "tickcolor": "rgb(36,36,36)",
             "ticklen": 8,
             "ticks": "outside",
             "tickwidth": 2
            },
            "type": "contourcarpet"
           }
          ],
          "heatmap": [
           {
            "colorbar": {
             "outlinewidth": 0,
             "tickcolor": "rgb(36,36,36)",
             "ticklen": 8,
             "ticks": "outside",
             "tickwidth": 2
            },
            "colorscale": [
             [
              0,
              "rgb(2,4,25)"
             ],
             [
              0.06274509803921569,
              "rgb(24,15,41)"
             ],
             [
              0.12549019607843137,
              "rgb(47,23,57)"
             ],
             [
              0.18823529411764706,
              "rgb(71,28,72)"
             ],
             [
              0.25098039215686274,
              "rgb(97,30,82)"
             ],
             [
              0.3137254901960784,
              "rgb(123,30,89)"
             ],
             [
              0.3764705882352941,
              "rgb(150,27,91)"
             ],
             [
              0.4392156862745098,
              "rgb(177,22,88)"
             ],
             [
              0.5019607843137255,
              "rgb(203,26,79)"
             ],
             [
              0.5647058823529412,
              "rgb(223,47,67)"
             ],
             [
              0.6274509803921569,
              "rgb(236,76,61)"
             ],
             [
              0.6901960784313725,
              "rgb(242,107,73)"
             ],
             [
              0.7529411764705882,
              "rgb(244,135,95)"
             ],
             [
              0.8156862745098039,
              "rgb(245,162,122)"
             ],
             [
              0.8784313725490196,
              "rgb(246,188,153)"
             ],
             [
              0.9411764705882353,
              "rgb(247,212,187)"
             ],
             [
              1,
              "rgb(250,234,220)"
             ]
            ],
            "type": "heatmap"
           }
          ],
          "heatmapgl": [
           {
            "colorbar": {
             "outlinewidth": 0,
             "tickcolor": "rgb(36,36,36)",
             "ticklen": 8,
             "ticks": "outside",
             "tickwidth": 2
            },
            "colorscale": [
             [
              0,
              "rgb(2,4,25)"
             ],
             [
              0.06274509803921569,
              "rgb(24,15,41)"
             ],
             [
              0.12549019607843137,
              "rgb(47,23,57)"
             ],
             [
              0.18823529411764706,
              "rgb(71,28,72)"
             ],
             [
              0.25098039215686274,
              "rgb(97,30,82)"
             ],
             [
              0.3137254901960784,
              "rgb(123,30,89)"
             ],
             [
              0.3764705882352941,
              "rgb(150,27,91)"
             ],
             [
              0.4392156862745098,
              "rgb(177,22,88)"
             ],
             [
              0.5019607843137255,
              "rgb(203,26,79)"
             ],
             [
              0.5647058823529412,
              "rgb(223,47,67)"
             ],
             [
              0.6274509803921569,
              "rgb(236,76,61)"
             ],
             [
              0.6901960784313725,
              "rgb(242,107,73)"
             ],
             [
              0.7529411764705882,
              "rgb(244,135,95)"
             ],
             [
              0.8156862745098039,
              "rgb(245,162,122)"
             ],
             [
              0.8784313725490196,
              "rgb(246,188,153)"
             ],
             [
              0.9411764705882353,
              "rgb(247,212,187)"
             ],
             [
              1,
              "rgb(250,234,220)"
             ]
            ],
            "type": "heatmapgl"
           }
          ],
          "histogram": [
           {
            "marker": {
             "pattern": {
              "fillmode": "overlay",
              "size": 10,
              "solidity": 0.2
             }
            },
            "type": "histogram"
           }
          ],
          "histogram2d": [
           {
            "colorbar": {
             "outlinewidth": 0,
             "tickcolor": "rgb(36,36,36)",
             "ticklen": 8,
             "ticks": "outside",
             "tickwidth": 2
            },
            "colorscale": [
             [
              0,
              "rgb(2,4,25)"
             ],
             [
              0.06274509803921569,
              "rgb(24,15,41)"
             ],
             [
              0.12549019607843137,
              "rgb(47,23,57)"
             ],
             [
              0.18823529411764706,
              "rgb(71,28,72)"
             ],
             [
              0.25098039215686274,
              "rgb(97,30,82)"
             ],
             [
              0.3137254901960784,
              "rgb(123,30,89)"
             ],
             [
              0.3764705882352941,
              "rgb(150,27,91)"
             ],
             [
              0.4392156862745098,
              "rgb(177,22,88)"
             ],
             [
              0.5019607843137255,
              "rgb(203,26,79)"
             ],
             [
              0.5647058823529412,
              "rgb(223,47,67)"
             ],
             [
              0.6274509803921569,
              "rgb(236,76,61)"
             ],
             [
              0.6901960784313725,
              "rgb(242,107,73)"
             ],
             [
              0.7529411764705882,
              "rgb(244,135,95)"
             ],
             [
              0.8156862745098039,
              "rgb(245,162,122)"
             ],
             [
              0.8784313725490196,
              "rgb(246,188,153)"
             ],
             [
              0.9411764705882353,
              "rgb(247,212,187)"
             ],
             [
              1,
              "rgb(250,234,220)"
             ]
            ],
            "type": "histogram2d"
           }
          ],
          "histogram2dcontour": [
           {
            "colorbar": {
             "outlinewidth": 0,
             "tickcolor": "rgb(36,36,36)",
             "ticklen": 8,
             "ticks": "outside",
             "tickwidth": 2
            },
            "colorscale": [
             [
              0,
              "rgb(2,4,25)"
             ],
             [
              0.06274509803921569,
              "rgb(24,15,41)"
             ],
             [
              0.12549019607843137,
              "rgb(47,23,57)"
             ],
             [
              0.18823529411764706,
              "rgb(71,28,72)"
             ],
             [
              0.25098039215686274,
              "rgb(97,30,82)"
             ],
             [
              0.3137254901960784,
              "rgb(123,30,89)"
             ],
             [
              0.3764705882352941,
              "rgb(150,27,91)"
             ],
             [
              0.4392156862745098,
              "rgb(177,22,88)"
             ],
             [
              0.5019607843137255,
              "rgb(203,26,79)"
             ],
             [
              0.5647058823529412,
              "rgb(223,47,67)"
             ],
             [
              0.6274509803921569,
              "rgb(236,76,61)"
             ],
             [
              0.6901960784313725,
              "rgb(242,107,73)"
             ],
             [
              0.7529411764705882,
              "rgb(244,135,95)"
             ],
             [
              0.8156862745098039,
              "rgb(245,162,122)"
             ],
             [
              0.8784313725490196,
              "rgb(246,188,153)"
             ],
             [
              0.9411764705882353,
              "rgb(247,212,187)"
             ],
             [
              1,
              "rgb(250,234,220)"
             ]
            ],
            "type": "histogram2dcontour"
           }
          ],
          "mesh3d": [
           {
            "colorbar": {
             "outlinewidth": 0,
             "tickcolor": "rgb(36,36,36)",
             "ticklen": 8,
             "ticks": "outside",
             "tickwidth": 2
            },
            "type": "mesh3d"
           }
          ],
          "parcoords": [
           {
            "line": {
             "colorbar": {
              "outlinewidth": 0,
              "tickcolor": "rgb(36,36,36)",
              "ticklen": 8,
              "ticks": "outside",
              "tickwidth": 2
             }
            },
            "type": "parcoords"
           }
          ],
          "pie": [
           {
            "automargin": true,
            "type": "pie"
           }
          ],
          "scatter": [
           {
            "fillpattern": {
             "fillmode": "overlay",
             "size": 10,
             "solidity": 0.2
            },
            "type": "scatter"
           }
          ],
          "scatter3d": [
           {
            "line": {
             "colorbar": {
              "outlinewidth": 0,
              "tickcolor": "rgb(36,36,36)",
              "ticklen": 8,
              "ticks": "outside",
              "tickwidth": 2
             }
            },
            "marker": {
             "colorbar": {
              "outlinewidth": 0,
              "tickcolor": "rgb(36,36,36)",
              "ticklen": 8,
              "ticks": "outside",
              "tickwidth": 2
             }
            },
            "type": "scatter3d"
           }
          ],
          "scattercarpet": [
           {
            "marker": {
             "colorbar": {
              "outlinewidth": 0,
              "tickcolor": "rgb(36,36,36)",
              "ticklen": 8,
              "ticks": "outside",
              "tickwidth": 2
             }
            },
            "type": "scattercarpet"
           }
          ],
          "scattergeo": [
           {
            "marker": {
             "colorbar": {
              "outlinewidth": 0,
              "tickcolor": "rgb(36,36,36)",
              "ticklen": 8,
              "ticks": "outside",
              "tickwidth": 2
             }
            },
            "type": "scattergeo"
           }
          ],
          "scattergl": [
           {
            "marker": {
             "colorbar": {
              "outlinewidth": 0,
              "tickcolor": "rgb(36,36,36)",
              "ticklen": 8,
              "ticks": "outside",
              "tickwidth": 2
             }
            },
            "type": "scattergl"
           }
          ],
          "scattermapbox": [
           {
            "marker": {
             "colorbar": {
              "outlinewidth": 0,
              "tickcolor": "rgb(36,36,36)",
              "ticklen": 8,
              "ticks": "outside",
              "tickwidth": 2
             }
            },
            "type": "scattermapbox"
           }
          ],
          "scatterpolar": [
           {
            "marker": {
             "colorbar": {
              "outlinewidth": 0,
              "tickcolor": "rgb(36,36,36)",
              "ticklen": 8,
              "ticks": "outside",
              "tickwidth": 2
             }
            },
            "type": "scatterpolar"
           }
          ],
          "scatterpolargl": [
           {
            "marker": {
             "colorbar": {
              "outlinewidth": 0,
              "tickcolor": "rgb(36,36,36)",
              "ticklen": 8,
              "ticks": "outside",
              "tickwidth": 2
             }
            },
            "type": "scatterpolargl"
           }
          ],
          "scatterternary": [
           {
            "marker": {
             "colorbar": {
              "outlinewidth": 0,
              "tickcolor": "rgb(36,36,36)",
              "ticklen": 8,
              "ticks": "outside",
              "tickwidth": 2
             }
            },
            "type": "scatterternary"
           }
          ],
          "surface": [
           {
            "colorbar": {
             "outlinewidth": 0,
             "tickcolor": "rgb(36,36,36)",
             "ticklen": 8,
             "ticks": "outside",
             "tickwidth": 2
            },
            "colorscale": [
             [
              0,
              "rgb(2,4,25)"
             ],
             [
              0.06274509803921569,
              "rgb(24,15,41)"
             ],
             [
              0.12549019607843137,
              "rgb(47,23,57)"
             ],
             [
              0.18823529411764706,
              "rgb(71,28,72)"
             ],
             [
              0.25098039215686274,
              "rgb(97,30,82)"
             ],
             [
              0.3137254901960784,
              "rgb(123,30,89)"
             ],
             [
              0.3764705882352941,
              "rgb(150,27,91)"
             ],
             [
              0.4392156862745098,
              "rgb(177,22,88)"
             ],
             [
              0.5019607843137255,
              "rgb(203,26,79)"
             ],
             [
              0.5647058823529412,
              "rgb(223,47,67)"
             ],
             [
              0.6274509803921569,
              "rgb(236,76,61)"
             ],
             [
              0.6901960784313725,
              "rgb(242,107,73)"
             ],
             [
              0.7529411764705882,
              "rgb(244,135,95)"
             ],
             [
              0.8156862745098039,
              "rgb(245,162,122)"
             ],
             [
              0.8784313725490196,
              "rgb(246,188,153)"
             ],
             [
              0.9411764705882353,
              "rgb(247,212,187)"
             ],
             [
              1,
              "rgb(250,234,220)"
             ]
            ],
            "type": "surface"
           }
          ],
          "table": [
           {
            "cells": {
             "fill": {
              "color": "rgb(231,231,240)"
             },
             "line": {
              "color": "white"
             }
            },
            "header": {
             "fill": {
              "color": "rgb(183,183,191)"
             },
             "line": {
              "color": "white"
             }
            },
            "type": "table"
           }
          ]
         },
         "layout": {
          "annotationdefaults": {
           "arrowcolor": "rgb(67,103,167)"
          },
          "autotypenumbers": "strict",
          "coloraxis": {
           "colorbar": {
            "outlinewidth": 0,
            "tickcolor": "rgb(36,36,36)",
            "ticklen": 8,
            "ticks": "outside",
            "tickwidth": 2
           }
          },
          "colorscale": {
           "sequential": [
            [
             0,
             "rgb(2,4,25)"
            ],
            [
             0.06274509803921569,
             "rgb(24,15,41)"
            ],
            [
             0.12549019607843137,
             "rgb(47,23,57)"
            ],
            [
             0.18823529411764706,
             "rgb(71,28,72)"
            ],
            [
             0.25098039215686274,
             "rgb(97,30,82)"
            ],
            [
             0.3137254901960784,
             "rgb(123,30,89)"
            ],
            [
             0.3764705882352941,
             "rgb(150,27,91)"
            ],
            [
             0.4392156862745098,
             "rgb(177,22,88)"
            ],
            [
             0.5019607843137255,
             "rgb(203,26,79)"
            ],
            [
             0.5647058823529412,
             "rgb(223,47,67)"
            ],
            [
             0.6274509803921569,
             "rgb(236,76,61)"
            ],
            [
             0.6901960784313725,
             "rgb(242,107,73)"
            ],
            [
             0.7529411764705882,
             "rgb(244,135,95)"
            ],
            [
             0.8156862745098039,
             "rgb(245,162,122)"
            ],
            [
             0.8784313725490196,
             "rgb(246,188,153)"
            ],
            [
             0.9411764705882353,
             "rgb(247,212,187)"
            ],
            [
             1,
             "rgb(250,234,220)"
            ]
           ],
           "sequentialminus": [
            [
             0,
             "rgb(2,4,25)"
            ],
            [
             0.06274509803921569,
             "rgb(24,15,41)"
            ],
            [
             0.12549019607843137,
             "rgb(47,23,57)"
            ],
            [
             0.18823529411764706,
             "rgb(71,28,72)"
            ],
            [
             0.25098039215686274,
             "rgb(97,30,82)"
            ],
            [
             0.3137254901960784,
             "rgb(123,30,89)"
            ],
            [
             0.3764705882352941,
             "rgb(150,27,91)"
            ],
            [
             0.4392156862745098,
             "rgb(177,22,88)"
            ],
            [
             0.5019607843137255,
             "rgb(203,26,79)"
            ],
            [
             0.5647058823529412,
             "rgb(223,47,67)"
            ],
            [
             0.6274509803921569,
             "rgb(236,76,61)"
            ],
            [
             0.6901960784313725,
             "rgb(242,107,73)"
            ],
            [
             0.7529411764705882,
             "rgb(244,135,95)"
            ],
            [
             0.8156862745098039,
             "rgb(245,162,122)"
            ],
            [
             0.8784313725490196,
             "rgb(246,188,153)"
            ],
            [
             0.9411764705882353,
             "rgb(247,212,187)"
            ],
            [
             1,
             "rgb(250,234,220)"
            ]
           ]
          },
          "colorway": [
           "rgb(76,114,176)",
           "rgb(221,132,82)",
           "rgb(85,168,104)",
           "rgb(196,78,82)",
           "rgb(129,114,179)",
           "rgb(147,120,96)",
           "rgb(218,139,195)",
           "rgb(140,140,140)",
           "rgb(204,185,116)",
           "rgb(100,181,205)"
          ],
          "font": {
           "color": "rgb(36,36,36)"
          },
          "geo": {
           "bgcolor": "white",
           "lakecolor": "white",
           "landcolor": "rgb(234,234,242)",
           "showlakes": true,
           "showland": true,
           "subunitcolor": "white"
          },
          "hoverlabel": {
           "align": "left"
          },
          "hovermode": "closest",
          "paper_bgcolor": "white",
          "plot_bgcolor": "rgb(234,234,242)",
          "polar": {
           "angularaxis": {
            "gridcolor": "white",
            "linecolor": "white",
            "showgrid": true,
            "ticks": ""
           },
           "bgcolor": "rgb(234,234,242)",
           "radialaxis": {
            "gridcolor": "white",
            "linecolor": "white",
            "showgrid": true,
            "ticks": ""
           }
          },
          "scene": {
           "xaxis": {
            "backgroundcolor": "rgb(234,234,242)",
            "gridcolor": "white",
            "gridwidth": 2,
            "linecolor": "white",
            "showbackground": true,
            "showgrid": true,
            "ticks": "",
            "zerolinecolor": "white"
           },
           "yaxis": {
            "backgroundcolor": "rgb(234,234,242)",
            "gridcolor": "white",
            "gridwidth": 2,
            "linecolor": "white",
            "showbackground": true,
            "showgrid": true,
            "ticks": "",
            "zerolinecolor": "white"
           },
           "zaxis": {
            "backgroundcolor": "rgb(234,234,242)",
            "gridcolor": "white",
            "gridwidth": 2,
            "linecolor": "white",
            "showbackground": true,
            "showgrid": true,
            "ticks": "",
            "zerolinecolor": "white"
           }
          },
          "shapedefaults": {
           "fillcolor": "rgb(67,103,167)",
           "line": {
            "width": 0
           },
           "opacity": 0.5
          },
          "ternary": {
           "aaxis": {
            "gridcolor": "white",
            "linecolor": "white",
            "showgrid": true,
            "ticks": ""
           },
           "baxis": {
            "gridcolor": "white",
            "linecolor": "white",
            "showgrid": true,
            "ticks": ""
           },
           "bgcolor": "rgb(234,234,242)",
           "caxis": {
            "gridcolor": "white",
            "linecolor": "white",
            "showgrid": true,
            "ticks": ""
           }
          },
          "xaxis": {
           "automargin": true,
           "gridcolor": "white",
           "linecolor": "white",
           "showgrid": true,
           "ticks": "",
           "title": {
            "standoff": 15
           },
           "zerolinecolor": "white"
          },
          "yaxis": {
           "automargin": true,
           "gridcolor": "white",
           "linecolor": "white",
           "showgrid": true,
           "ticks": "",
           "title": {
            "standoff": 15
           },
           "zerolinecolor": "white"
          }
         }
        },
        "title": {
         "text": "Resultados de las elecciones"
        },
        "xaxis": {
         "anchor": "y",
         "domain": [
          0,
          1
         ],
         "title": {
          "text": "Año"
         }
        },
        "yaxis": {
         "anchor": "x",
         "domain": [
          0,
          1
         ],
         "title": {
          "text": "Porcentaje"
         }
        }
       }
      }
     },
     "metadata": {},
     "output_type": "display_data"
    }
   ],
   "source": [
    "# color segunda vuelta\n",
    "\n",
    "color_balotaje = {\n",
    "    \"Partido Nacional\": \"#87CEEB\",  # Celeste\n",
    "    \"Partido Colorado\": \"#d62728\",  # Rojo (colorado)\n",
    "    \"Frente Amplio\": \"#2ca02c\", # verde\n",
    "    \"Partido Nacional - Coalición Multicolor\": \"#6A0DAD\"   # morado\n",
    "    # Agrega aquí todos los partidos que quieras\n",
    "}\n",
    "\n",
    "# colores de los partidos\n",
    "\n",
    "color_map = {\n",
    "    \"Partido Nacional\": \"#87CEEB\",  # Celeste\n",
    "    \"Partido Colorado\": \"#d62728\",  # Rojo (colorado)\n",
    "    \"Frente Amplio\": \"#2ca02c\", # verde\n",
    "    \"Partido Independiente\": \"#6A0DAD\",   # morado\n",
    "    \"Partido Socialista\":\"#FFD700\",\n",
    "    \"Cabilo Abierto\":\"#556B2F\",\n",
    "    \"Nuevo Espacio\":\"#8A2BE2\"\n",
    "    # Agrega aquí todos los partidos que quieras\n",
    "}\n",
    "\n",
    "# como aplicarlo\n",
    "\n",
    "fig = px.bar(df_0, \n",
    "             x=\"Año\", \n",
    "             y=\"Porcentaje\", \n",
    "             color=\"Partido\", \n",
    "             title=\"Resultados de las elecciones\",\n",
    "             color_discrete_map=color_map)  # Aplica el color map aquí\n",
    "\n",
    "# Mostrar el gráfico\n",
    "fig.show()"
   ]
  },
  {
   "cell_type": "markdown",
   "metadata": {},
   "source": [
    "## DASH"
   ]
  },
  {
   "cell_type": "code",
   "execution_count": 61,
   "metadata": {},
   "outputs": [
    {
     "data": {
      "text/html": [
       "\n",
       "        <iframe\n",
       "            width=\"100%\"\n",
       "            height=\"650\"\n",
       "            src=\"http://127.0.0.1:8051/\"\n",
       "            frameborder=\"0\"\n",
       "            allowfullscreen\n",
       "            \n",
       "        ></iframe>\n",
       "        "
      ],
      "text/plain": [
       "<IPython.lib.display.IFrame at 0x1efed4f90f0>"
      ]
     },
     "metadata": {},
     "output_type": "display_data"
    }
   ],
   "source": [
    "import dash\n",
    "import plotly.io as pio\n",
    "import dash_bootstrap_components as dbc\n",
    "import plotly.express as px\n",
    "from dash import Dash, html, dcc\n",
    "from dash.dependencies import Input, Output\n",
    "\n",
    "# Configuración de la hoja de estilos de Bootstrap\n",
    "\n",
    "# Configuración de Dash con Bootstrap\n",
    "app = Dash(__name__, external_stylesheets=[dbc.themes.JOURNAL]) \n",
    "\n",
    "# Configuración de la plantilla de Plotly: opciones 'plotly', 'seaborn' (muy buena), simple_white (media)\n",
    "pio.templates.default = \"seaborn\"\n",
    "\n",
    "#Generamos gráficos\n",
    "\n",
    "fig0 = df_0.query('Sigla in (\"PN\", \"PC\", \"FA\")').plot(x='Año', y='Porcentaje', color='Partido',color_discrete_map=color_map,\n",
    " title = 'Desempeño de los partidos en las elecciones Nacionales').update_xaxes(\n",
    "    tickvals=[1922,1926,1930,1938, 1942, 1946, 1950, 1954, 1958,1962,1966, 1971]\n",
    ").update_layout(\n",
    "    annotations=[\n",
    "        dict(\n",
    "            xref=\"paper\", yref=\"paper\",\n",
    "            x=0, y=-0.2,  # Posición en la ventana\n",
    "            showarrow=False,\n",
    "            text=\"Nota: Rige la regla del Doble Voto Simultáneo, en una vuelta sola se vota al legislativo y al ejecutivo.\",\n",
    "            font=dict(size=12, color=\"gray\")\n",
    "        )\n",
    "    ]\n",
    ")\n",
    "\n",
    "\n",
    "fig1 = df.query('Sigla in (\"PN\", \"PC\", \"FA\",\"NE\",\"CA\")').plot(x='Año', y='Porcentaje', color='Partido',color_discrete_map=color_map,\n",
    "title = 'Desempeño de los partidos en las elecciones Nacionales').update_xaxes(\n",
    "    tickvals=[1984,1989, 1994, 1999, 2004, 2009, 2014, 2019]\n",
    ").update_layout(\n",
    "    annotations=[\n",
    "        dict(\n",
    "            xref=\"paper\", yref=\"paper\",\n",
    "            x=0, y=-0.2,  # Posición en la ventana\n",
    "            showarrow=False,\n",
    "            text=\"Nota: A partir de 1999, las elecciones en Uruguay comenzaron a incluir una segunda vuelta.\",\n",
    "            font=dict(size=12, color=\"gray\")\n",
    "        )\n",
    "    ]\n",
    ")\n",
    "\n",
    "segunda_vuelta = px.bar(segunda_vuelta, x=\"Año\", y=\"Porcentaje\", color=\"Partido político\", barmode=\"group\",color_discrete_map=color_balotaje,\n",
    "    title=\"Elecciones Nacionales - Segunda Vuelta\", hover_data=[\"Fórmula presidencial\"]).update_xaxes(\n",
    "    tickvals=[1999,2004, 2009, 2014, 2019]).update_layout(\n",
    "    annotations=[\n",
    "        dict(\n",
    "            xref=\"paper\", yref=\"paper\",\n",
    "            x=0, y=-0.2,  # Posición en la ventana\n",
    "            showarrow=False,\n",
    "            text=\"Nota: En el año 2004 el Frente Amplio gana en primera vuelta con más del 50% + 1 de los votos.\",\n",
    "            font=dict(size=12, color=\"gray\")\n",
    "        )\n",
    "    ]\n",
    ")\n",
    "\n",
    "fig1_2 = df2.plot(x = 'Año', y ='Porcentaje', color = 'Partidos aliados').update_xaxes(\n",
    "    tickvals=[1984,1989, 1994, 1999, 2004, 2009, 2014, 2019])\n",
    "\n",
    "fig0_0=graficar_histograma_por_anio(df_0, 1922)\n",
    "fig0_1=graficar_histograma_por_anio(df_0, 1926)\n",
    "fig0_2=graficar_histograma_por_anio(df_0, 1930)\n",
    "fig0_3=graficar_histograma_por_anio(df_0, 1938)\n",
    "fig0_4=graficar_histograma_por_anio(df_0, 1942)\n",
    "fig0_5=graficar_histograma_por_anio(df_0, 1946)\n",
    "fig0_6=graficar_histograma_por_anio(df_0, 1950)\n",
    "fig0_7=graficar_histograma_por_anio(df_0, 1954)\n",
    "fig0_8=graficar_histograma_por_anio(df_0, 1958)\n",
    "fig0_9=graficar_histograma_por_anio(df_0, 1962)\n",
    "fig0_10=graficar_histograma_por_anio(df_0, 1966)\n",
    "fig0_11=graficar_histograma_por_anio(df_0, 1971)\n",
    "\n",
    "fig2_0=graficar_histograma_por_anio(df, 1984)\n",
    "fig2_1=graficar_histograma_por_anio(df, 1989)\n",
    "fig2_2=graficar_histograma_por_anio(df, 1994)\n",
    "fig2_3=graficar_histograma_por_anio(df, 1999)\n",
    "fig2_4=graficar_histograma_por_anio(df, 2004)\n",
    "fig2_5=graficar_histograma_por_anio(df, 2009)\n",
    "fig2_6=graficar_histograma_por_anio(df, 2014)\n",
    "fig2_7=graficar_histograma_por_anio(df, 2019)\n",
    "fig3 = df.plot(x='Año', y='Porcentaje', color='Partido')\n",
    "fig_edad_masc = df.plot(x='Año', y='Porcentaje', color='Partido')\n",
    "fig_edad_fem =df.plot(x='Año', y='Porcentaje', color='Partido')\n",
    "\n",
    "fig_4 = px.line(\n",
    "    vb_va,\n",
    "    x='Año',\n",
    "    y='Porcentaje',\n",
    "    color='Partido',  # Variable categórica para el color\n",
    "    markers=True,     # Mostrar los puntos además de las líneas\n",
    "    labels={'Año': 'Año', 'Porcentaje': 'Porcentaje'},\n",
    "    title='Evolución de los votos anulados y en blanco (1984-2019)'\n",
    ").add_scatter(   # Añadir la segunda métrica en el mismo gráfico\n",
    "    x=vb_va['Año'],\n",
    "    y=vb_va['Porcentaje_suma'],  \n",
    "    mode='lines',  # Solo puntos\n",
    "    name='Porcentaje Suma',\n",
    "    marker=dict(symbol='circle', color='black')  # Opcional: Estilo de marcador\n",
    ").update_xaxes(\n",
    "    tickvals=[1984, 1989, 1994, 1999, 2004, 2009, 2014, 2019])\n",
    "\n",
    "# Creación de la aplicación Dash\n",
    "\n",
    "tab_0 = [dbc.Row([\n",
    "dbc.Col(dcc.Graph(figure=fig0), md=12),\n",
    "])]\n",
    "\n",
    "tab_1 = [dbc.Row([\n",
    "dbc.Col(dcc.Graph(figure=fig1), md=12),\n",
    "])]\n",
    "\n",
    "\n",
    "tab_1_1 =[dbc.Row([\n",
    "  dbc.Col(dcc.Graph(figure = segunda_vuelta), md=12),\n",
    "])]\n",
    "\n",
    "tab_2 =[html.Br(),\n",
    "                                  html.H3(\"Desempeño electoral estático\"),\n",
    "                                  dbc.Row([\n",
    "                                      dbc.Col(\n",
    "                                            dcc.Dropdown(id=\"dropdown_eleccion\", options=[\n",
    "                                              {\"label\": \"1922\", \"value\": \"Resultados de las elecciones de 1922\"},\n",
    "                                              {\"label\": \"1926\", \"value\": \"Resultados de las elecciones de 1926\"},\n",
    "                                              {\"label\": \"1930\", \"value\": \"Resultados de las elecciones de 1930\"},\n",
    "                                              {\"label\": \"1938\", \"value\": \"Resultados de las elecciones de 1938\"},\n",
    "                                              {\"label\": \"1942\", \"value\": \"Resultados de las elecciones de 1942\"},\n",
    "                                              {\"label\": \"1946\", \"value\": \"Resultados de las elecciones de 1946\"},\n",
    "                                              {\"label\": \"1950\", \"value\": \"Resultados de las elecciones de 1950\"},\n",
    "                                              {\"label\": \"1954\", \"value\": \"Resultados de las elecciones de 1954\"},\n",
    "                                              {\"label\": \"1958\", \"value\": \"Resultados de las elecciones de 1958\"},\n",
    "                                              {\"label\": \"1962\", \"value\": \"Resultados de las elecciones de 1962\"},\n",
    "                                              {\"label\": \"1966\", \"value\": \"Resultados de las elecciones de 1966\"},\n",
    "                                              {\"label\": \"1971\", \"value\": \"Resultados de las elecciones de 1971\"},\n",
    "                                              {\"label\": \"1994\", \"value\": \"Resultados de las elecciones de 1994\"},\n",
    "                                              {\"label\": \"1999\", \"value\": \"Resultados de las elecciones de 1999\"},\n",
    "                                              {\"label\": \"2004\", \"value\": \"Resultados de las elecciones de 2004\"},\n",
    "                                              {\"label\": \"2009\", \"value\": \"Resultados de las elecciones de 2009\"},\n",
    "                                              {\"label\": \"2014\", \"value\": \"Resultados de las elecciones de 2014\"},\n",
    "                                              {\"label\": \"2019\", \"value\": \"Resultados de las elecciones de 2019\"}]\n",
    "\n",
    "                                   ,placeholder=\"Seleccionar año de la elección\"), width=6)]),\n",
    "                                   dbc.Row([dbc.Col(dcc.Graph(id=\"graph_tipo\")),])]\n",
    "\n",
    "## guia analoga\n",
    "\n",
    "tab_3 = [dbc.Row([\n",
    "dbc.Col(dcc.Graph(figure=fig1_2), md=12),\n",
    "])]\n",
    "\n",
    "tab_4 = [dbc.Row([\n",
    "dbc.Col(dcc.Graph(figure=fig_4), md=12),\n",
    "])]\n",
    "\n",
    "# Diseño general de la aplicación\n",
    "\n",
    "app.layout = dbc.Container([\n",
    "    html.H1(\n",
    "        \"Visualizador de datos de las Elecciones Nacionales en el Uruguay\", \n",
    "        style={\"font-size\": \"3rem\", \"text-align\": \"center\", \"color\": \"#333\"}  # Personalización del estilo\n",
    "    ),\n",
    "    html.Br(),\n",
    "\n",
    "    # Tarjeta que muestra los  datos en forma de tabla\n",
    "    #dbc.Card([\n",
    "    #    dbc.CardHeader(html.H5(\"General\")),  # Encabezado de la tarjeta\n",
    "    #    dbc.CardBody(\n",
    "    #        dbc.Table.from_dataframe(tabla, striped=True, hover=True, bordered=True, responsive=True)\n",
    "    #    )  # Cuerpo de la tarjeta que contiene la tabla\n",
    "    #], color=\"primary\", outline=True),  # Estilo y borde de la tarjeta\n",
    "\n",
    "    html.Br(),  # Salto de línea\n",
    "\n",
    "    # Pestañas que contienen los gráficos definidos previamente en 'tab_1', 'tab_2'\n",
    "    dbc.Tabs([\n",
    "        dbc.Tab(tab_0, label=\"Elecciones nacionales generales (1922-1971)\", className = 'text-dark'), # etiquetas\n",
    "        dbc.Tab(tab_1, label=\"Elecciones nacionales generales (1984-2019)\"), \n",
    "        dbc.Tab(tab_1_1, label=\"Balotaje (Segunda vuelta)\"),  # etiqueta titulo de primer tab \n",
    "        dbc.Tab(tab_2, label=\"Desempeño por elección histórico\"), # etiqueta de segundo\n",
    "        dbc.Tab(tab_3, label=\"Desempeño electoral de los bloques aliados (1984-2019)\"),\n",
    "        dbc.Tab(tab_4, label=\"Votos en blanco y anulado (1984-2019)\")\n",
    "          # Pestaña para visualizar pruebas\n",
    "    ])\n",
    "], fluid=True, style={'color': 'black'})\n",
    "\n",
    "\n",
    "# Llamar al Callback y funcion de la pestana 2\n",
    "@app.callback( Output('graph_tipo', 'figure'),[Input('dropdown_eleccion', 'value')])\n",
    "def crear_grafico_pestana_2(value):\n",
    "    if value == \"Resultados de las elecciones de 1922\":\n",
    "      return fig0_0\n",
    "    elif value == \"Resultados de las elecciones de 1926\":\n",
    "      return fig0_1\n",
    "    elif value == \"Resultados de las elecciones de 1930\":\n",
    "      return fig0_2\n",
    "    elif value == \"Resultados de las elecciones de 1938\":\n",
    "      return fig0_3\n",
    "    elif value == \"Resultados de las elecciones de 1942\":\n",
    "      return fig0_4\n",
    "    elif value == \"Resultados de las elecciones de 1946\":\n",
    "      return fig0_5\n",
    "    elif value == \"Resultados de las elecciones de 1950\":\n",
    "      return fig0_6\n",
    "    elif value == \"Resultados de las elecciones de 1954\":\n",
    "      return fig0_7\n",
    "    elif value == \"Resultados de las elecciones de 1958\":\n",
    "      return fig0_8\n",
    "    elif value == \"Resultados de las elecciones de 1962\":\n",
    "      return fig0_9\n",
    "    elif value == \"Resultados de las elecciones de 1966\":\n",
    "      return fig0_10\n",
    "    elif value == \"Resultados de las elecciones de 1971\":\n",
    "      return fig0_11   \n",
    "    elif value == \"Resultados de las elecciones de 1984\":\n",
    "      return fig2_0\n",
    "    elif value == \"Resultados de las elecciones de 1989\":\n",
    "      return fig2_1\n",
    "    elif value == \"Resultados de las elecciones de 1994\":\n",
    "      return fig2_2\n",
    "    elif value == \"Resultados de las elecciones de 1999\":\n",
    "      return fig2_3\n",
    "    elif value == \"Resultados de las elecciones de 2004\":\n",
    "      return fig2_4\n",
    "    elif value == \"Resultados de las elecciones de 2009\":\n",
    "      return fig2_5\n",
    "    elif value == \"Resultados de las elecciones de 2014\":\n",
    "      return fig2_6\n",
    "    elif value == \"Resultados de las elecciones de 2019\":\n",
    "      return fig2_7\n",
    "    else:\n",
    "      return{}\n",
    "\n",
    "# Llamar al callback y funcion de la pestana 3 (como la pestana 3 no tiene nada interactivo entonces no tiene ningun callback)\n",
    "\n",
    "# Llamar al callback de la pestana 4 (IDEM)\n",
    "\n",
    "if __name__ == '__main__':\n",
    "    app.run_server(debug=True,mode=\"external\", port=8051)"
   ]
  },
  {
   "cell_type": "code",
   "execution_count": null,
   "metadata": {},
   "outputs": [],
   "source": [
    "# Aca va a aparecer\n",
    "\n",
    "http://127.0.0.1:8051/"
   ]
  },
  {
   "cell_type": "markdown",
   "metadata": {},
   "source": [
    "## Pusheo a git"
   ]
  },
  {
   "cell_type": "code",
   "execution_count": null,
   "metadata": {},
   "outputs": [],
   "source": [
    "import subprocess\n",
    "import os\n",
    "\n",
    "# Conectar local con el repo remoto para pushear, pasos:\n",
    "\n",
    "# 1 cd C:/Users/PC/Desktop/Proyecto_elecciones\n",
    "# 2 git init\n",
    "# 3 git remote add origin https://github.com/estebancardoso96/proy_elecciones.git\n",
    "# 4 git add .\n",
    "# 5 git commit -m \"Primer commit\"\n",
    "# 6 git branch (para ver si estoy en master o en main)\n",
    "# 7 git push -u origin master  \n"
   ]
  },
  {
   "cell_type": "markdown",
   "metadata": {},
   "source": [
    "# Ir a la terminal y conectar local con el repo remoto\n",
    "\n",
    "# cd C:/Users/PC/Desktop/Proyecto_elecciones\n",
    "# "
   ]
  }
 ],
 "metadata": {
  "kernelspec": {
   "display_name": "Python 3",
   "language": "python",
   "name": "python3"
  },
  "language_info": {
   "codemirror_mode": {
    "name": "ipython",
    "version": 3
   },
   "file_extension": ".py",
   "mimetype": "text/x-python",
   "name": "python",
   "nbconvert_exporter": "python",
   "pygments_lexer": "ipython3",
   "version": "3.13.0"
  }
 },
 "nbformat": 4,
 "nbformat_minor": 2
}
